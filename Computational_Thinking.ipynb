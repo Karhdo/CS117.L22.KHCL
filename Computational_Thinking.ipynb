{
  "nbformat": 4,
  "nbformat_minor": 0,
  "metadata": {
    "colab": {
      "name": "Computational_Thinking.ipynb",
      "provenance": [],
      "collapsed_sections": [],
      "authorship_tag": "ABX9TyPa8MNHWaZ7CRZRV54JrJ4P",
      "include_colab_link": true
    },
    "kernelspec": {
      "name": "python3",
      "display_name": "Python 3"
    },
    "language_info": {
      "name": "python"
    }
  },
  "cells": [
    {
      "cell_type": "markdown",
      "metadata": {
        "id": "view-in-github",
        "colab_type": "text"
      },
      "source": [
        "<a href=\"https://colab.research.google.com/github/trong-khanh-1109/CS117.L22.KHCL/blob/main/Computational_Thinking.ipynb\" target=\"_parent\"><img src=\"https://colab.research.google.com/assets/colab-badge.svg\" alt=\"Open In Colab\"/></a>"
      ]
    },
    {
      "cell_type": "code",
      "metadata": {
        "id": "POOIMOQ0Cd9k",
        "colab": {
          "base_uri": "https://localhost:8080/"
        },
        "outputId": "f1f1bac6-f232-443f-914c-04eb7fa2e105"
      },
      "source": [
        "from google.colab import drive\n",
        "drive.mount('/content/drive')"
      ],
      "execution_count": null,
      "outputs": [
        {
          "output_type": "stream",
          "text": [
            "Drive already mounted at /content/drive; to attempt to forcibly remount, call drive.mount(\"/content/drive\", force_remount=True).\n"
          ],
          "name": "stdout"
        }
      ]
    },
    {
      "cell_type": "markdown",
      "metadata": {
        "id": "29FQH0CmhB_V"
      },
      "source": [
        "#Import necessary library"
      ]
    },
    {
      "cell_type": "code",
      "metadata": {
        "id": "TTKh38ktOwJp"
      },
      "source": [
        "from sklearn.metrics import classification_report\n",
        "from sklearn.model_selection import train_test_split\n",
        "\n",
        "from sklearn.feature_extraction.text import TfidfVectorizer\n",
        "\n",
        "from sklearn.linear_model import LogisticRegression\n",
        "from sklearn.naive_bayes import MultinomialNB\n",
        "from sklearn.svm import LinearSVC, LinearSVR\n",
        "from sklearn.tree import DecisionTreeClassifier\n",
        "from sklearn.metrics import confusion_matrix\n",
        "import matplotlib.pyplot as plt\n",
        "import seaborn as sns\n",
        "import pandas as pd"
      ],
      "execution_count": null,
      "outputs": []
    },
    {
      "cell_type": "markdown",
      "metadata": {
        "id": "lX-bc0BMhd0w"
      },
      "source": [
        "#Load data from drive"
      ]
    },
    {
      "cell_type": "code",
      "metadata": {
        "id": "e_etQUYjDFL0",
        "colab": {
          "base_uri": "https://localhost:8080/",
          "height": 359
        },
        "outputId": "e74c4ef1-fe65-4c90-ec65-c11989e2b5f0"
      },
      "source": [
        "# Load data\n",
        "headers = ['comment','is_hate_speech']\n",
        "data = pd.read_csv('/content/drive/My Drive/Computational Thinking/Data_crawl/data.csv', names=headers)\n",
        "# Load data test\n",
        "headers_test = ['comment','is_hate_speech', '0', '1', '2', '3', '4', '5', '6', '7', '8']\n",
        "data_test = pd.read_csv('/content/drive/My Drive/Computational Thinking/Test_data/Test.csv', names = headers_vali)\n",
        "del data_test['0']\n",
        "del data_test['1']\n",
        "del data_test['2']\n",
        "del data_test['3']\n",
        "del data_test['4']\n",
        "del data_test['5']\n",
        "del data_test['6']\n",
        "del data_test['7']\n",
        "del data_test['8']\n",
        "\n",
        "data_test.head()\n",
        "data.head(10)"
      ],
      "execution_count": null,
      "outputs": [
        {
          "output_type": "execute_result",
          "data": {
            "text/html": [
              "<div>\n",
              "<style scoped>\n",
              "    .dataframe tbody tr th:only-of-type {\n",
              "        vertical-align: middle;\n",
              "    }\n",
              "\n",
              "    .dataframe tbody tr th {\n",
              "        vertical-align: top;\n",
              "    }\n",
              "\n",
              "    .dataframe thead th {\n",
              "        text-align: right;\n",
              "    }\n",
              "</style>\n",
              "<table border=\"1\" class=\"dataframe\">\n",
              "  <thead>\n",
              "    <tr style=\"text-align: right;\">\n",
              "      <th></th>\n",
              "      <th>comment</th>\n",
              "      <th>is_hate_speech</th>\n",
              "    </tr>\n",
              "  </thead>\n",
              "  <tbody>\n",
              "    <tr>\n",
              "      <th>0</th>\n",
              "      <td>Em đang xả với 1xx+freship ai qtam ib em nhé</td>\n",
              "      <td>0</td>\n",
              "    </tr>\n",
              "    <tr>\n",
              "      <th>1</th>\n",
              "      <td>1 số đặt đc lần nhiều đơn hả mọi người, tưởng ...</td>\n",
              "      <td>0</td>\n",
              "    </tr>\n",
              "    <tr>\n",
              "      <th>2</th>\n",
              "      <td>Ác quá🙄</td>\n",
              "      <td>0</td>\n",
              "    </tr>\n",
              "    <tr>\n",
              "      <th>3</th>\n",
              "      <td>Ác thật 😔</td>\n",
              "      <td>0</td>\n",
              "    </tr>\n",
              "    <tr>\n",
              "      <th>4</th>\n",
              "      <td>Ác vl</td>\n",
              "      <td>1</td>\n",
              "    </tr>\n",
              "    <tr>\n",
              "      <th>5</th>\n",
              "      <td>ad cứ để số đt ra ko cần che. Cho nó hết dùng ...</td>\n",
              "      <td>0</td>\n",
              "    </tr>\n",
              "    <tr>\n",
              "      <th>6</th>\n",
              "      <td>Ae chánh ta</td>\n",
              "      <td>0</td>\n",
              "    </tr>\n",
              "    <tr>\n",
              "      <th>7</th>\n",
              "      <td>Anh Chun có phải trò này mày chuyên làm ko hả ?</td>\n",
              "      <td>0</td>\n",
              "    </tr>\n",
              "    <tr>\n",
              "      <th>8</th>\n",
              "      <td>Anh Nguyen mượn đt làm vài đơn Now</td>\n",
              "      <td>0</td>\n",
              "    </tr>\n",
              "    <tr>\n",
              "      <th>9</th>\n",
              "      <td>Bắt đc cho nó ăn hết số đồ nó đặt,  nôn ra thì...</td>\n",
              "      <td>0</td>\n",
              "    </tr>\n",
              "  </tbody>\n",
              "</table>\n",
              "</div>"
            ],
            "text/plain": [
              "                                             comment  is_hate_speech\n",
              "0       Em đang xả với 1xx+freship ai qtam ib em nhé               0\n",
              "1  1 số đặt đc lần nhiều đơn hả mọi người, tưởng ...               0\n",
              "2                                            Ác quá🙄               0\n",
              "3                                          Ác thật 😔               0\n",
              "4                                             Ác vl                1\n",
              "5  ad cứ để số đt ra ko cần che. Cho nó hết dùng ...               0\n",
              "6                                        Ae chánh ta               0\n",
              "7    Anh Chun có phải trò này mày chuyên làm ko hả ?               0\n",
              "8                 Anh Nguyen mượn đt làm vài đơn Now               0\n",
              "9  Bắt đc cho nó ăn hết số đồ nó đặt,  nôn ra thì...               0"
            ]
          },
          "metadata": {},
          "execution_count": 52
        }
      ]
    },
    {
      "cell_type": "code",
      "metadata": {
        "id": "QZzV09Hx5JFB"
      },
      "source": [
        "# Edit validation data\n",
        "data_test = data_test.dropna(axis=0) # Remove blank lines (Contains NaN)\n",
        "data_test[\"is_hate_speech\"] = data_test[\"is_hate_speech\"].astype(int) # Convert type of column 'is_hate_speech' from float64 to int64"
      ],
      "execution_count": null,
      "outputs": []
    },
    {
      "cell_type": "code",
      "metadata": {
        "colab": {
          "base_uri": "https://localhost:8080/"
        },
        "id": "r0H2eSq-b3RM",
        "outputId": "1f440ddf-2aa0-499f-c3c7-e5fd79b46d45"
      },
      "source": [
        "print(\"[INFO] Data\")\n",
        "print(data.info())\n",
        "print(\"-------------------------------------------\")\n",
        "print(\"[INFO] Test Data\")\n",
        "print(data_test.info())"
      ],
      "execution_count": null,
      "outputs": [
        {
          "output_type": "stream",
          "text": [
            "[INFO] Data\n",
            "<class 'pandas.core.frame.DataFrame'>\n",
            "RangeIndex: 4764 entries, 0 to 4763\n",
            "Data columns (total 2 columns):\n",
            " #   Column          Non-Null Count  Dtype \n",
            "---  ------          --------------  ----- \n",
            " 0   comment         4764 non-null   object\n",
            " 1   is_hate_speech  4764 non-null   int64 \n",
            "dtypes: int64(1), object(1)\n",
            "memory usage: 74.6+ KB\n",
            "None\n",
            "-------------------------------------------\n",
            "[INFO] Test Data\n",
            "<class 'pandas.core.frame.DataFrame'>\n",
            "Int64Index: 871 entries, 0 to 870\n",
            "Data columns (total 2 columns):\n",
            " #   Column          Non-Null Count  Dtype \n",
            "---  ------          --------------  ----- \n",
            " 0   comment         871 non-null    object\n",
            " 1   is_hate_speech  871 non-null    int64 \n",
            "dtypes: int64(1), object(1)\n",
            "memory usage: 20.4+ KB\n",
            "None\n"
          ],
          "name": "stdout"
        }
      ]
    },
    {
      "cell_type": "code",
      "metadata": {
        "id": "fA-peb90QP3A",
        "colab": {
          "base_uri": "https://localhost:8080/"
        },
        "outputId": "f0e923a0-6af2-4752-beb3-0f9b0f3ea381"
      },
      "source": [
        "X = data['comment']\n",
        "Y = data['is_hate_speech']\n",
        "X"
      ],
      "execution_count": null,
      "outputs": [
        {
          "output_type": "execute_result",
          "data": {
            "text/plain": [
              "0            Em đang xả với 1xx+freship ai qtam ib em nhé\n",
              "1       1 số đặt đc lần nhiều đơn hả mọi người, tưởng ...\n",
              "2                                                 Ác quá🙄\n",
              "3                                               Ác thật 😔\n",
              "4                                                  Ác vl \n",
              "                              ...                        \n",
              "4759    Xl rồi ng trong cuộc đã nhận lời thì đã xong.k...\n",
              "4760              Xl= xạo loz chứ hổng phải \"xin lỗi\" đâu\n",
              "4761    Xong gia đình chị mút bánh kem có thấy chột dạ...\n",
              "4762                     Xui cho ông nào lấy phải con này\n",
              "4763                                               yêu em\n",
              "Name: comment, Length: 4764, dtype: object"
            ]
          },
          "metadata": {},
          "execution_count": 55
        }
      ]
    },
    {
      "cell_type": "code",
      "metadata": {
        "colab": {
          "base_uri": "https://localhost:8080/",
          "height": 350
        },
        "id": "QLYnl_4dG8Lw",
        "outputId": "496197cd-d356-4b62-c4ca-cf38fe69fd18"
      },
      "source": [
        "import matplotlib.pyplot as plt\n",
        "import seaborn as sns\n",
        "\n",
        "#%matplotlib inline\n",
        "sns.set_style(\"darkgrid\")\n",
        "sns.countplot(Y).set_title('Data')\n",
        "plt.show()"
      ],
      "execution_count": null,
      "outputs": [
        {
          "output_type": "stream",
          "text": [
            "/usr/local/lib/python3.7/dist-packages/seaborn/_decorators.py:43: FutureWarning: Pass the following variable as a keyword arg: x. From version 0.12, the only valid positional argument will be `data`, and passing other arguments without an explicit keyword will result in an error or misinterpretation.\n",
            "  FutureWarning\n"
          ],
          "name": "stderr"
        },
        {
          "output_type": "display_data",
          "data": {
            "image/png": "[encoded data removed]",
            "text/plain": [
              "<Figure size 432x288 with 1 Axes>"
            ]
          },
          "metadata": {}
        }
      ]
    },
    {
      "cell_type": "code",
      "metadata": {
        "colab": {
          "base_uri": "https://localhost:8080/"
        },
        "id": "gQq8SKoO5_vT",
        "outputId": "aa27b1ab-9e1a-45b4-cd3b-f484693cb5a6"
      },
      "source": [
        "X_test = data_test['comment']\n",
        "Y_test = data_test['is_hate_speech']\n",
        "X_test"
      ],
      "execution_count": null,
      "outputs": [
        {
          "output_type": "execute_result",
          "data": {
            "text/plain": [
              "0                                        mua về để hít à\n",
              "1                Dm bà cao thái sơn đàn bà vl rách thật \n",
              "2      Cơ mà Ngọc Trinh có mặc đồ lót đíu bh đâu mà đ...\n",
              "3                      Bố tổ 2 thằng Gay đấu nhau mệt vl\n",
              "4         Ngọc Trinh liên quan gì đến chuyện này thế CTS\n",
              "                             ...                        \n",
              "866                                          A Sơn dơ vl\n",
              "867    BEAT lại bảo đấu mõ, chẳng khác nào nói CAO TH...\n",
              "868    CĐB chơi thân với Vi bô à? Bài cùn giống nhau vl \n",
              "869    Khi anh Sơn nói ra câu này thì tôi thấy tư các...\n",
              "870      Tự tạo trò biết thái vkl vậy...2 hiện tượng hài\n",
              "Name: comment, Length: 871, dtype: object"
            ]
          },
          "metadata": {},
          "execution_count": 60
        }
      ]
    },
    {
      "cell_type": "code",
      "metadata": {
        "colab": {
          "base_uri": "https://localhost:8080/",
          "height": 350
        },
        "id": "24SHsywVIUcg",
        "outputId": "f5a1250f-c35f-4dfd-a421-f10545157ff3"
      },
      "source": [
        "import matplotlib.pyplot as plt\n",
        "import seaborn as sns\n",
        "\n",
        "%matplotlib inline\n",
        "sns.set_style(\"darkgrid\")\n",
        "sns.countplot(Y_test).set_title('Data')\n",
        "plt.show()"
      ],
      "execution_count": null,
      "outputs": [
        {
          "output_type": "stream",
          "text": [
            "/usr/local/lib/python3.7/dist-packages/seaborn/_decorators.py:43: FutureWarning: Pass the following variable as a keyword arg: x. From version 0.12, the only valid positional argument will be `data`, and passing other arguments without an explicit keyword will result in an error or misinterpretation.\n",
            "  FutureWarning\n"
          ],
          "name": "stderr"
        },
        {
          "output_type": "display_data",
          "data": {
            "image/png": "[encoded data removed]",
            "text/plain": [
              "<Figure size 432x288 with 1 Axes>"
            ]
          },
          "metadata": {}
        }
      ]
    },
    {
      "cell_type": "markdown",
      "metadata": {
        "id": "jux7JbAPBqwK"
      },
      "source": [
        "#Preprocessing data"
      ]
    },
    {
      "cell_type": "code",
      "metadata": {
        "colab": {
          "base_uri": "https://localhost:8080/"
        },
        "id": "675dMwv-Q2C4",
        "outputId": "95cfc8e4-76fd-439f-e06d-017b8cd2a16a"
      },
      "source": [
        "# Word segmentation\n",
        "!pip install pyvi\n",
        "from pyvi import ViTokenizer\n",
        "class NLP(object):\n",
        "    def __init__(self, text = None):\n",
        "        self.text = text\n",
        "        #self.set_stopwords()\n",
        "\n",
        "    def segmentation(self):\n",
        "        return ViTokenizer.tokenize(self.text)"
      ],
      "execution_count": null,
      "outputs": [
        {
          "output_type": "stream",
          "text": [
            "Requirement already satisfied: pyvi in /usr/local/lib/python3.7/dist-packages (0.1.1)\n",
            "Requirement already satisfied: scikit-learn in /usr/local/lib/python3.7/dist-packages (from pyvi) (0.22.2.post1)\n",
            "Requirement already satisfied: sklearn-crfsuite in /usr/local/lib/python3.7/dist-packages (from pyvi) (0.3.6)\n",
            "Requirement already satisfied: scipy>=0.17.0 in /usr/local/lib/python3.7/dist-packages (from scikit-learn->pyvi) (1.4.1)\n",
            "Requirement already satisfied: joblib>=0.11 in /usr/local/lib/python3.7/dist-packages (from scikit-learn->pyvi) (1.0.1)\n",
            "Requirement already satisfied: numpy>=1.11.0 in /usr/local/lib/python3.7/dist-packages (from scikit-learn->pyvi) (1.19.5)\n",
            "Requirement already satisfied: tqdm>=2.0 in /usr/local/lib/python3.7/dist-packages (from sklearn-crfsuite->pyvi) (4.62.0)\n",
            "Requirement already satisfied: python-crfsuite>=0.8.3 in /usr/local/lib/python3.7/dist-packages (from sklearn-crfsuite->pyvi) (0.9.7)\n",
            "Requirement already satisfied: six in /usr/local/lib/python3.7/dist-packages (from sklearn-crfsuite->pyvi) (1.15.0)\n",
            "Requirement already satisfied: tabulate in /usr/local/lib/python3.7/dist-packages (from sklearn-crfsuite->pyvi) (0.8.9)\n"
          ],
          "name": "stdout"
        }
      ]
    },
    {
      "cell_type": "code",
      "metadata": {
        "colab": {
          "base_uri": "https://localhost:8080/"
        },
        "id": "ZviqNuroQsAB",
        "outputId": "04e45c06-23bd-4c55-ec34-50cd70853522"
      },
      "source": [
        "# Example about word segmentation\n",
        "cmt = \"Nguyễn Quang Hải là cầu thủ bóng đá chuyên nghiệp của đội tuyển Việt Nam!\"\n",
        "print(NLP(text=cmt).segmentation())"
      ],
      "execution_count": null,
      "outputs": [
        {
          "output_type": "stream",
          "text": [
            "Nguyễn_Quang_Hải là cầu_thủ bóng_đá chuyên_nghiệp của đội_tuyển Việt_Nam !\n"
          ],
          "name": "stdout"
        }
      ]
    },
    {
      "cell_type": "code",
      "metadata": {
        "id": "XrP7eK4pRsFQ"
      },
      "source": [
        "# Loại bỏ các ký tự đặc biệt\n",
        "import re, string\n",
        "\n",
        "def clean_text(cmt):\n",
        "  if type(cmt) != str:\n",
        "    return\n",
        "  else:\n",
        "    cmt = cmt.lower()\n",
        "    cmt = re.sub('\\[.*?]', '', cmt)\n",
        "    cmt = re.sub('[%s]' % re.escape(string.punctuation), '', cmt)\n",
        "    cmt = re.sub('\\w*\\d\\w*', '', cmt)\n",
        "  return cmt"
      ],
      "execution_count": null,
      "outputs": []
    },
    {
      "cell_type": "code",
      "metadata": {
        "id": "e6G8fOhaW5cw",
        "colab": {
          "base_uri": "https://localhost:8080/"
        },
        "outputId": "571a0840-d751-4685-9f7d-9589f6fd518e"
      },
      "source": [
        "# upload stopword\n",
        "stop_word =  open('/content/drive/MyDrive/Computational Thinking/stop_word.txt')\n",
        "stop_word = stop_word.readlines()\n",
        "stop_word = [x.strip() for x in stop_word]\n",
        "print(len(stop_word))\n",
        "# The function to delete words is stopword\n",
        "\n",
        "def del_stopword(cmt):\n",
        "    cmt_clean = clean_text(cmt)\n",
        "    if cmt_clean == '':\n",
        "        return\n",
        "    cmt_seg = NLP(text = cmt_clean).segmentation()\n",
        "    cmt_seg = cmt_seg.split()\n",
        "    cmt_seg_tam = cmt_seg\n",
        "    for x in cmt_seg_tam:\n",
        "      if x in stop_word:\n",
        "        cmt_seg.remove(x)\n",
        "    return cmt_seg"
      ],
      "execution_count": null,
      "outputs": [
        {
          "output_type": "stream",
          "text": [
            "4171\n"
          ],
          "name": "stdout"
        }
      ]
    },
    {
      "cell_type": "markdown",
      "metadata": {
        "id": "xNuq_N7W4yVx"
      },
      "source": [
        "##Preprocessing data"
      ]
    },
    {
      "cell_type": "code",
      "metadata": {
        "colab": {
          "base_uri": "https://localhost:8080/"
        },
        "id": "iDe2Y9VqFoLH",
        "outputId": "3f5ac89a-dea4-4e4e-82ea-09c2a0b33992"
      },
      "source": [
        "n = len(X)\n",
        "for i in range(n):\n",
        "    X[i] = del_stopword(X[i])\n",
        "    X[i] = ' '.join(X[i])"
      ],
      "execution_count": null,
      "outputs": [
        {
          "output_type": "stream",
          "text": [
            "/usr/local/lib/python3.7/dist-packages/ipykernel_launcher.py:3: SettingWithCopyWarning: \n",
            "A value is trying to be set on a copy of a slice from a DataFrame\n",
            "\n",
            "See the caveats in the documentation: https://pandas.pydata.org/pandas-docs/stable/user_guide/indexing.html#returning-a-view-versus-a-copy\n",
            "  This is separate from the ipykernel package so we can avoid doing imports until\n",
            "/usr/local/lib/python3.7/dist-packages/ipykernel_launcher.py:4: SettingWithCopyWarning: \n",
            "A value is trying to be set on a copy of a slice from a DataFrame\n",
            "\n",
            "See the caveats in the documentation: https://pandas.pydata.org/pandas-docs/stable/user_guide/indexing.html#returning-a-view-versus-a-copy\n",
            "  after removing the cwd from sys.path.\n"
          ],
          "name": "stderr"
        }
      ]
    },
    {
      "cell_type": "markdown",
      "metadata": {
        "id": "dZwPO1cr47vW"
      },
      "source": [
        "##Preprocessing test data"
      ]
    },
    {
      "cell_type": "code",
      "metadata": {
        "colab": {
          "base_uri": "https://localhost:8080/"
        },
        "id": "RMBPOFxl6R09",
        "outputId": "2cf0d8f1-22f1-4837-ac86-d66bf9135358"
      },
      "source": [
        "n_test = len(X_test)\n",
        "for i in range(n_test):\n",
        "    X_test[i] = del_stopword(X_test[i])\n",
        "    X_test[i] = ' '.join(X_test[i])"
      ],
      "execution_count": null,
      "outputs": [
        {
          "output_type": "stream",
          "text": [
            "/usr/local/lib/python3.7/dist-packages/ipykernel_launcher.py:3: SettingWithCopyWarning: \n",
            "A value is trying to be set on a copy of a slice from a DataFrame\n",
            "\n",
            "See the caveats in the documentation: https://pandas.pydata.org/pandas-docs/stable/user_guide/indexing.html#returning-a-view-versus-a-copy\n",
            "  This is separate from the ipykernel package so we can avoid doing imports until\n",
            "/usr/local/lib/python3.7/dist-packages/ipykernel_launcher.py:4: SettingWithCopyWarning: \n",
            "A value is trying to be set on a copy of a slice from a DataFrame\n",
            "\n",
            "See the caveats in the documentation: https://pandas.pydata.org/pandas-docs/stable/user_guide/indexing.html#returning-a-view-versus-a-copy\n",
            "  after removing the cwd from sys.path.\n"
          ],
          "name": "stderr"
        }
      ]
    },
    {
      "cell_type": "markdown",
      "metadata": {
        "id": "mqID3MpWcmYc"
      },
      "source": [
        "#Divide the train and validation dataset"
      ]
    },
    {
      "cell_type": "code",
      "metadata": {
        "colab": {
          "base_uri": "https://localhost:8080/"
        },
        "id": "-qW07yqfNIaE",
        "outputId": "f904e9ea-9918-4308-dfa0-d453bb5a1dd6"
      },
      "source": [
        "# split validation:30%, train:70%\n",
        "X_train, X_val, Y_train, Y_val = train_test_split(X ,Y, test_size=0.3, random_state=42)\n",
        "\n",
        "# initialize TfidfVectorizer\n",
        "# size of vocab: 50000\n",
        "# min_df: ignore terms that have a document frequency strictly lower than the given threshold\n",
        "tf = TfidfVectorizer(ngram_range=(1,2), max_features=50000, min_df=2)\n",
        "\n",
        "# transform words to vetor\n",
        "X_train = tf.fit_transform(X_train.values).toarray()\n",
        "trainVocab = tf.vocabulary_ \n",
        "tf = TfidfVectorizer(vocabulary=trainVocab)\n",
        "X_val = tf.fit_transform(X_val.values).toarray()\n",
        "X_test = tf.fit_transform(X_test.values).toarray()\n",
        "print(trainVocab)"
      ],
      "execution_count": null,
      "outputs": [
        {
          "output_type": "stream",
          "text": [
            "{'le': 1505, 'đa': 3489, 'nhân_cách': 2192, 'hả': 1287, 'đĩ': 3655, 'kiểu': 1420, 'khinh': 1353, 'ngta': 2076, 'hám': 1240, 'gái': 1108, 'đĩ kiểu': 3661, 'kiểu khinh': 1425, 'khinh ngta': 1354, 'ngta hám': 2078, 'hám gái': 1242, 'như': 2206, 'cđ': 687, 'khùng': 1389, 'huyền': 1214, 'mình': 1873, 'cái': 612, 'lòn': 1645, 'mũi': 1890, 'to': 2925, 'thee': 2778, 'mũi to': 1908, 'to thee': 2932, 'tâm': 3058, 'hô': 1266, 'zậy': 3444, 'tâm hô': 3069, 'hô zậy': 1268, 'phương': 2497, 'tao': 2749, 'chấp_nhận': 407, 'những': 2261, 'dơ_bẩn': 908, 'mày': 1841, 'không': 1384, 'phương tao': 2499, 'tao chấp_nhận': 2751, 'chấp_nhận những': 409, 'những dơ_bẩn': 2262, 'dơ_bẩn mày': 910, 'mày không': 1844, 'cúp': 681, 'đi': 3520, 'mệt': 1968, 'loz': 1563, 'nó': 2355, 'sao': 2636, 'tien': 2906, 'khác': 1369, 'ko': 1434, 'đó': 3635, 'dong': 854, 'tiền': 2916, 'suong': 2679, 'mơ': 1924, 'rồi': 2616, 'xong': 3363, 'mẹ': 1963, 'trả_lời': 3011, 'bình_luận': 139, 'trả_lời bình_luận': 3012, 'đừng': 3791, 'ns': 2292, 'nx': 2303, 'lồn': 1700, 'tâm lồn': 3071, 'học': 1310, 'chưa': 393, 'đm': 3553, 'cty': 590, 'grab': 1106, 'goviet': 1105, 'xác_nhận': 3377, 'khách_hàng': 1373, 'bom': 95, 'còn': 644, 'có': 656, 'anh_em': 32, 'tài_xế': 3046, 'giao': 1032, 'ứng': 3849, 'mấy': 1935, 'là': 1588, 'anh': 21, 'ngày': 2106, 'đây': 3612, 'méo': 1869, 'đặt': 3715, 'cũng': 691, 'ok': 2448, 'lý_do': 1660, 'cuối_cùng': 601, 'đấy': 3690, 'may_ra': 1763, 'vài': 3233, 'cái là': 620, 'kiểu cũng': 1421, 'nói': 2380, 'hết': 1302, 'này': 2311, 'sử': 2730, 'lý': 1658, 'tuyệt_vời': 3038, 'cần': 726, 'sử lý': 2731, 'che': 297, 'lm': 1537, 'ng': 2032, 'tránh': 2987, 'đấy ng': 3696, 'con_người': 586, 'vô': 3261, 'tắt': 3126, 'xàm': 3372, 'đẹp': 3717, 'vàng': 3236, 'em': 968, 'tâm đẹp': 3080, 'thái_độ': 2815, 'sai': 2628, 'nó nó': 2368, 'bo': 83, 'trần': 3014, 'bo trần': 93, 'dang': 795, 'giá': 1050, 'da': 778, 'chết': 425, 'nhật': 2241, 'ib': 1330, 'chồng': 465, 'vũ': 3276, 'vợ': 3310, 'ngậm': 2121, 'cặc': 737, 'với': 3304, 'thằng': 2870, 'bồ': 230, 'địt': 3743, 'lần': 1687, 'địt_mẹ': 3745, 'mang': 1751, 'mà': 1821, 'ngậm cặc': 2122, 'nó đi': 2375, 'con': 555, 'ngứa': 2135, 'háng': 1243, 'muốn': 1814, 'làm': 1606, 'ỉa': 3835, 'chuyen': 342, 'vui': 3223, 'dan': 786, 'len': 1506, 'tải': 3119, 'bao_nhiêu': 59, 'tải tâm': 3122, 'set': 2645, 'dam': 784, 'khong': 1364, 'giang': 1030, 'ship': 2648, 'phải': 2506, 'hay': 1170, 'lè': 1630, 'nguyễn': 2097, 'an': 17, 'tau': 2759, 'bây': 128, 'thấy': 2859, 'bị': 203, 'vẩu': 3280, 'lâu': 1627, 'bị vẩu': 205, 'vẩu lâu': 3282, 'lợn': 1739, 'mũi lợn': 1901, 'di_la': 825, 'co': 548, 'loai': 1543, 'ong': 2450, 'cu': 591, 'muon': 1813, 'vai': 3178, 'gia': 1025, 'loai dan': 1544, 'dan ong': 793, 'điên': 3544, 'con điên': 575, 'vậy': 3287, 'nói_chuyện': 2390, 'bình_thường': 141, 'kh': 1348, 'cái lồn': 621, 'ơi': 3806, 'chặn': 422, 'cmt': 544, 'tâm chặn': 3060, 'chặn cmt': 423, 'trâu': 2989, 'mũi trâu': 1911, 'đeo': 3513, 'khẩu_trang': 1394, 'đeo khẩu_trang': 3516, 'khẩu_trang che': 1395, 'che mũi': 298, 'tẹt': 3131, 'vc': 3186, 'mũi tẹt': 1914, 'tẹt hô': 3132, 'hô vc': 1267, 'ăn_theo': 3484, 'xấucòn': 3415, 'gi': 1022, 'thớt': 2893, 'xấucòn gi': 3416, 'gi mẹ': 1024, 'mẹ thớt': 1966, 'nhím': 2203, 'xù': 3388, 'lông': 1653, 'mò': 1876, 'nhím xù': 2204, 'xù lông': 3389, 'sau_này': 2640, 'kiếm': 1414, 'ông': 3466, 'như_vậy': 2219, 'vậy_mà': 3290, 'lo': 1539, 'xã_hội': 3381, 'ông chồng': 3467, 'dkm': 843, 'lộn': 1721, 'ruột_gan': 2579, 'dkm mà': 844, 'mà lộn': 1830, 'lộn ruột_gan': 1723, 'đôi': 3643, 'xinh': 3350, 'ơiii': 3813, 'ghê': 1014, 'chị': 441, 'ghê chị': 1015, 'cất': 724, 'hàm_răng': 1230, 'lon': 1557, 'cất hàm_răng': 725, 'hàm_răng lon': 1232, 'đụ': 3776, 'chào': 352, 'chị chào': 442, 'po': 2521, 'đcm': 3507, 'potâm': 2524, 'po po': 2522, 'po tâm': 2523, 'tâm tâm': 3077, 'tâm đi': 3079, 'đi đcm': 3533, 'đcm còn': 3508, 'còn potâm': 650, 'đàn_bà': 3572, 'thôi': 2839, 'đàn_bà như_vậy': 3577, 'như_vậy như': 2221, 'như thôi': 2213, 'ban': 53, 'linh': 1521, 'nguoi': 2090, 'kia': 1404, 'chuẩn_bị': 347, 'xách': 3378, 'buòi': 103, 'kịp': 1483, 'người': 2111, 'đánh_giá': 3607, 'bà': 115, 'giả_vờ': 1059, 'gớm': 1156, 'qué': 2546, 'nhung': 2178, 'trứng': 3027, 'rán': 2592, 'xấu': 3403, 'trứng rán': 3029, 'friend': 1003, 'cười': 705, 'gớt': 1157, 'nước_mắt': 2404, 'chị cười': 444, 'gớt nước_mắt': 1158, 'lắm': 1688, 'cc': 285, 'nhớ': 2249, 'cô': 668, 'tự_tử': 3166, 'bọn': 209, 'xúc': 3390, 'vật': 3285, 'theanh': 2777, 'nhớ cô': 2250, 'cô đó': 670, 'đó tự_tử': 3639, 'tự_tử bọn': 3167, 'bọn xúc': 215, 'xúc vật': 3391, 'vật theanh': 3286, 'quá': 2539, 'già_mồm': 1041, 'bảo': 168, 'gì': 1113, 'vào': 3237, 'ăn': 3475, 'cứt': 771, 'cách': 610, 'nhất': 2236, 'nhiều': 2161, 'trả': 3009, 'về': 3296, 'sản_xuất': 2702, 'chồng quá': 472, 'quá còn': 2540, 'còn này': 648, 'này gái': 2316, 'gái đĩ': 1110, 'đĩ già_mồm': 3658, 'già_mồm bảo': 1043, 'bảo đây': 171, 'đây ko': 3613, 'ko gì': 1440, 'gì ko': 1116, 'gì vào': 1119, 'vào đấy': 3239, 'đấy ăn': 3700, 'ăn cứt': 3478, 'cứt cách': 772, 'cách nhất': 611, 'nhất ông': 2237, 'chồng ko': 468, 'ko nhiều': 1449, 'nhiều trả': 2168, 'trả về': 3010, 'về sản_xuất': 3300, 'ae': 4, 'lai': 1493, 'tha': 2764, 'cho': 315, 'ck': 511, 'uyên': 3171, 'mỡ': 2004, 'cl': 526, 'hướng': 1281, 'rán mỡ': 2594, 'mỡ xách': 2006, 'xách cl': 3379, 'cl hướng': 528, 'mo': 1793, 'lê': 1635, 'minh': 1774, 'mắc': 1941, 'mắc mệt': 1943, 'mệt ghê': 1969, 'xử_lý': 3422, 'cư_xử': 702, 'đàng_hoàng': 3589, 'đỉ': 3736, 'càng': 606, 'ngông': 2110, 'bạn': 158, 'con đỉ': 577, 'đau': 3497, 'cả': 719, 'cắt': 734, 'nho': 2171, 'cccc': 288, 'nho cccc': 2172, 'anh_trai': 34, 'xàm quá': 3374, 'giẻ': 1066, 'rách': 2590, 'giẻ rách': 1067, 'dễ_thương': 948, 'dẹo': 931, 'đập': 3710, 'điên nói': 3545, 'nói dễ_thương': 2381, 'dễ_thương nói': 949, 'nói kiểu': 2385, 'kiểu dẹo': 1423, 'dẹo dẹo': 934, 'dẹo đập': 939, 'đập vô': 3711, 'vô ghê': 3262, 'và': 3230, 'ghe': 1008, 'ngáo': 2107, 'hành': 1236, 'đồ': 3757, 'moa': 1795, 'do': 851, 'cai': 262, 'thu': 2794, 'la': 1485, 'vua': 3222, 'cai thu': 267, 'bo la': 88, 'la vua': 1489, 'bổ': 232, 'đth': 3562, 'ghê_z': 1020, 'thả': 2852, 'tym': 3043, 'thả tym': 2854, 'cute': 598, 'cút': 682, 'sợ': 2717, 'vl': 3203, 'sợ vl': 2724, 'để': 3731, 'còn để': 655, 'bố_láo': 228, 'con đĩ': 576, 'mong': 1801, 'gọi': 1139, 'mãi': 1865, 'yêu': 3428, 'anti': 36, 'gọi em': 1142, 'yêu chị': 3429, 'chị với': 453, 'dũng': 903, 'boom': 96, 'nhiêu': 2160, 'bị boom': 204, 'ấy': 3834, 'hàng': 1235, 'onl': 2451, 'dạng': 919, 'đâu': 3610, 'này phải': 2321, 'chịu': 461, 'hư': 1276, 'sửa': 2733, 'đc': 3499, 'mốt': 1986, 'tử_tế': 3159, 'chị đẹp': 456, 'ngoai': 2065, 'noi': 2287, 'kho': 1356, 'ngoai con': 2066, 'con noi': 567, 'noi chuyen': 2288, 'public': 2527, 'sdt': 2643, 'page': 2452, 'khoa': 1357, 'nguyen': 2093, 'lô': 1646, 'lôn': 1652, 'huỳnh': 1217, 'vy': 3227, 'bỏ': 216, 'qủa': 2567, 'tân': 3083, 'nghinh': 2051, 'mặt': 1949, 'mê': 1870, 'trai': 2950, 'ba': 47, 'nữa': 2440, 'kìa': 1470, 'quỷ': 2561, 'bỏ lon': 217, 'lon đi': 1561, 'đi bây': 3521, 'bây qủa': 129, 'qủa tân': 2568, 'tân mà': 3084, 'mà nghinh': 1832, 'nghinh mặt': 2052, 'mặt mê': 1952, 'mê trai': 1872, 'trai ba': 2951, 'ba nữa': 48, 'nữa kìa': 2441, 'kìa đồ': 1472, 'đồ con': 3759, 'con quỷ': 571, 'bình_tĩnh': 142, 'tiệt': 2922, 'vời': 3305, 'quá ơi': 2542, 'giọng': 1071, 'con_gái': 580, 'giọng con_gái': 1073, 'tóc': 3096, 'cũ': 688, 'biết': 72, 'nhục': 2254, 'bao': 55, 'no': 2271, 'dai': 782, 'tat': 2758, 'tra': 2948, 'mới': 2002, 'hây': 1245, 'biết nhục': 74, 'cho no': 322, 'nhìu': 2200, 'chào đi': 354, 'bái': 121, 'công_an': 673, 'tóm': 3100, 'phường': 2500, 'tóm đc': 3101, 'đứng_tuổi': 3790, 'nổi_tiếng': 2424, 'khoe': 1360, 'mông': 1882, 'bự': 248, 'bò': 145, 'mũi bự': 1893, 'bự mũi': 249, 'mũi bò': 1891, 'dui': 866, 'miếng': 1775, 'đói': 3640, 'ngoại_tình': 2072, 'ra': 2569, 'đánh': 3599, 'một': 1996, 'khôn': 1383, 'nạn': 2405, 'đàn_bà vậy': 3582, 'vậy đi': 3289, 'đánh một': 3603, 'nha': 2143, 'mãi anti': 1866, 'bình': 138, 'chồng bình': 466, 'ai': 9, 'gảnh': 1131, 'ai gảnh': 11, 'uầy': 3176, 'zl': 3437, 'thử': 2900, 'môi': 1880, 'thử ngậm': 2901, 'ngậm môi': 2123, 'môi đi': 1881, 'peng': 2465, 'suss': 2680, 'ngửi': 2140, 'mùi': 1885, 'peng suss': 2466, 'suss ngửi': 2681, 'ngửi mùi': 2141, 'dô': 893, 'kêu': 1465, 'add': 2, 'th': 2763, 'ước': 3822, 'gặp': 1135, 'dizz': 837, 'chetme': 302, 'ước gặp': 3823, 'gặp anti': 1136, 'anti dizz': 38, 'dizz chetme': 838, 'đéo': 3616, 'ăn_nói': 3482, 'dạybỏ': 921, 'ơiloại': 3816, 'cặn_bã': 740, 'ngoài': 2070, 'rùi': 2601, 'đcm đỉ': 3510, 'đỉ đéo': 3738, 'đéo nhục': 3620, 'nhục còn': 2255, 'còn ăn_nói': 654, 'ăn_nói dạybỏ': 3483, 'dạybỏ đi': 922, 'đi ơiloại': 3537, 'ơiloại cặn_bã': 3817, 'cặn_bã ngoài': 741, 'ngoài xã_hội': 2071, 'xã_hội nhiều': 3384, 'nhiều lắm': 2164, 'lắm rùi': 1690, 'app': 42, 'ko chị': 1438, 'eo': 981, 'ảnh': 3826, 'live': 1526, 'stream': 2669, 'lại': 1674, 'sưng': 2694, 'live stream': 1529, 'thêm': 2830, 'nổi': 2422, 'nè': 2334, 'thính': 2836, 'thả thính': 2853, 'cj': 506, 'fan': 990, 'dương': 916, 'thị': 2889, 'hoàng': 1204, 'đàn_ông': 3584, 'đánh_ghen': 3606, 'đàn_ông đàn_bà': 3586, 'vẩu_thế': 3283, 'chẳng': 418, 'bao_giờ': 57, 'like': 1515, 'rác_rưởi': 2586, 'toàn': 2945, 'núp': 2400, 'nhà': 2179, 'múa': 1887, 'phím': 2488, 'chuyện': 344, 'thiên_hạ': 2789, 'chẳng bao_giờ': 419, 'bao_giờ like': 58, 'like page': 1517, 'page rác_rưởi': 2459, 'rác_rưởi toàn': 2589, 'toàn bọn': 2946, 'bọn núp': 212, 'núp nhà': 2401, 'nhà múa': 2182, 'múa phím': 1888, 'phím chuyện': 2489, 'chuyện thiên_hạ': 345, 'tỏ': 3136, 'răng': 2606, 'màn_hình': 1837, 'vỡ': 3306, 'đt': 3561, 'thay': 2774, 'tốn': 3140, 'cười thôi': 711, 'vỡ màn_hình': 3308, 'tốn tiền': 3142, 'kì': 1467, 'ta': 2738, 'kì ta': 1469, 'alo': 16, 'đại_ca': 3682, 'rỏ': 2615, 'vãi': 3249, 'chốt': 463, 'đơn': 3669, 'chốt đơn': 464, 'nc': 2020, 'vs': 3218, 'nc vs': 2023, 'vs trai': 3220, 'trai dẹo': 2954, 'kute': 1461, 'cmt anti': 545, 'rp': 2577, 'chúng_nó': 387, 'trang': 2963, 'bẩn': 176, 'rp chúng_nó': 2578, 'chúng_nó cái': 388, 'cái trang': 626, 'trang bẩn': 2965, 'xin_lỗi': 3343, 'chửi': 493, 'cô_hồn': 671, 'đến': 3725, 'tháng': 2816, 'chúng_mày': 386, 'xin_lỗi xong': 3349, 'đang': 3493, 'thg': 2783, 'ăn_ở': 3488, 'khốn_nạn': 1401, 'niềng': 2265, 'tiếp': 2915, 'vẫn': 3284, 'kiến': 1416, 'nguyễn kiến': 2099, 'dthw': 859, 'chj': 314, 'gọi đi': 1152, 'đi chj': 3522, 'tâm dễ_thương': 3065, 'quan_tâm': 2533, 'sn': 2661, 'tổ_chức': 3146, 'bất_ngờ': 175, 'bú': 150, 'mút': 1889, 'thật': 2867, 'luôn': 1579, 'xl': 3360, 'chi': 303, 'ngủ': 2132, 'chúc': 383, 'láo': 1625, 'đá': 3590, 'lỗ': 1715, 'mâm': 1861, 'nạo': 2406, 'dừa': 960, 'lỗ mũi': 1716, 'hàm_răng nạo': 1234, 'nạo dừa': 2407, 'noa': 2285, 'nâu': 2329, 'con noa': 566, 'noa nâu': 2286, 'helo': 1174, 'nhó': 2205, 'helo nhó': 1175, 'chớt': 477, 'mắc cười': 1942, 'bàn_phím': 119, 'sức_mạnh': 2728, 'đắp': 3712, 'vữa': 3324, 'thẳng_thế': 2874, 'mũi đắp': 1920, 'đắp vữa': 3713, 'vữa thẳng_thế': 3325, 'nể': 2416, 'thật_sự': 2868, 'chia': 306, 'buồn': 106, 'bo anh': 84, 'vứt': 3321, 'này còn': 2314, 'cãi': 643, 'chồng_con': 476, 'nhà_nghỉ': 2183, 'lạ': 1672, 'tay': 2760, 'đứa': 3784, 'còn cãi': 645, 'phò': 2490, 'vl hàm_răng': 3207, 'dừa hả': 962, 'hả phò': 1289, 'sướng': 2696, 'ghen_tị': 1010, 'cười ỉa': 715, 'trong': 2976, 'tim': 2912, 'thì': 2831, 'hối_hận': 1316, 'anh ck': 24, 'hơi': 1273, 'tâm xinh': 3078, 'xinh mũi': 3353, 'mũi tâm': 1913, 'tâm hơi': 3070, 'hơi to': 1274, 'da_gà': 781, 'nổi da_gà': 2423, 'idol': 1332, 'địt_mẹ mày': 3746, 'mịa': 1973, 'nam': 2013, 'tắt mịa': 3129, 'mịa em': 1974, 'em bạn': 969, 'bạn nam': 160, 'nam tắt': 2017, 'tắt lắm': 3128, 'câm': 635, 'mồm': 1987, 'vừa': 3323, 'vợ câm': 3312, 'câm mồm': 638, 'mồm vừa': 1993, 'ý_định': 3473, 'thời_gian': 2895, 'nhưng': 2224, 'có ý_định': 661, 'cụ': 758, 'miếng là': 1776, 'là miếng': 1594, 'miếng nhục': 1777, 'sừng': 2729, 'tải cl': 3121, 'cl về': 530, 'về sừng': 3301, 'có_thể': 665, 'lên': 1636, 'đc ko': 3503, 'troi': 2975, 'danh': 797, 'vo': 3212, 'mot': 1804, 'wa': 3326, 'nhục_nhã': 2257, 'đức': 3786, 'chị trần': 449, 'trần đức': 3016, 'đức bo': 3787, 'hoa': 1194, 'thần_kinh': 2865, 'ham': 1169, 'bày_đặt': 120, 'hốt': 1317, 'liền': 1536, 'chết liền': 431, 'nên': 2348, 'biến': 71, 'cái page': 625, 'chiện': 311, 'live chiện': 1527, 'chiện xàm': 313, 'xàm lồn': 3373, 'lồn live': 1707, 'hỏng': 1315, 'cave': 278, 'dái': 880, 'ảnh sợ': 3828, 'khen': 1351, 'ảo': 3831, 'hít': 1260, 'sđt': 2693, 'share': 2646, 'shipper': 2651, 'che sđt': 299, 'mấy shipper': 1936, 'cốc': 749, 'cốc_cốc': 751, 'cốc cốc_cốc': 750, 'học phò': 1311, 'phò có': 2492, 'trời': 3026, 'dân_trí': 887, 'nâng': 2327, 'các': 609, 'ngay': 2040, 'nhà_trường': 2184, 'sống': 2714, 'thứ': 2897, 'bt': 97, 'đấy là': 3694, 'ng ta': 2034, 'tuyệt': 3037, 'thần': 2864, 'mình ko': 1874, 'ko thử': 1456, 'khổ': 1402, 'cuộc_sống': 603, 'chet': 300, 'me': 1764, 'no_di': 2284, 'danh chet': 798, 'chet me': 301, 'me no_di': 1768, 'đứng': 3788, 'giải': 1060, 'yhichs': 3426, 'nhừ_tử': 2259, 'đửi': 3799, 'khỏi': 1399, 'thứ đàn_bà': 2898, 'đàn_bà vậy_mà': 3583, 'vậy_mà đứng': 3291, 'đứng giải': 3789, 'giải yhichs': 1061, 'yhichs chi': 3427, 'chi đánh': 305, 'đánh nó': 3604, 'nó nhừ_tử': 2367, 'nhừ_tử đửi': 2260, 'đửi khỏi': 3800, 'đái': 3593, 'quần': 2553, 'ơi đái': 3811, 'đái quần': 3594, 'chém': 361, 'chém chết': 362, 'chết nó': 434, 'buồn mà': 110, 'clm': 534, 'clm mũi': 536, 'mất_nết': 1933, 'xấu vl': 3409, 'bánh': 123, 'rầm_rộ': 2612, 'qua': 2530, 'nhảm': 2234, 'hông': 1271, 'đăng': 3650, 'bánh mà': 125, 'lồnnnn': 1712, 'mua': 1812, 'vác': 3242, 'cám': 631, 'vác cám': 3243, 'phân': 2483, 'zây': 3441, 'tr': 2947, 'em hốt': 971, 'xem': 3337, 'đỉnh': 3739, 'mũi đỉnh': 1922, 'đúng': 3647, 'bỏ_mẹ': 223, 'ghét': 1011, 'như_vậy đúng': 2222, 'đàn_bà hư': 3575, 'thấy ghét': 2861, 'cải': 721, 'bớt': 235, 'lớn_tuổi': 1727, 'chủ': 482, 'kem': 1343, 'bạn chủ': 159, 'chủ bánh': 483, 'bánh kem': 124, 'tội': 3147, 'bé': 131, 'chỉ': 437, 'việt_nam': 3197, 'đội': 3768, 'ác': 3448, 'đưa': 3672, 'chứ': 489, 'clip': 533, 'may': 1758, 'thang': 2768, 'se': 2644, 'den': 817, 'voi': 3215, 'tui': 3033, 'les': 1508, 'les chị': 1509, 'sml': 2659, 'ai gọi': 12, 'gọi chửi': 1141, 'chửi sml': 500, 'sml ta': 2660, 'đường': 3673, 'quyền': 2538, 'đường quyền': 3676, 'tran': 2961, 'giả_tạo': 1056, 'đĩ giả_tạo': 3659, 'tội_nghiệp': 3149, 'đại': 3680, 'thú': 2845, 'anh đại': 31, 'mik': 1773, 'giúp': 1054, 'trắng': 3019, 'nhé': 2194, 'ib nhé': 1331, 'củ': 760, 'lìn': 1642, 'nghĩ': 2057, 'lun': 1574, 'hoang': 1195, 'dang hoang': 796, 'lệch': 1692, 'dap': 805, 'chèt': 359, 'di_roi': 826, 'dap chèt': 806, 'chèt me': 360, 'me no': 1767, 'no di_roi': 2274, 'di_roi bo': 827, 'thất_đức': 2858, 'nổ': 2420, 'lol': 1549, 'mầy': 1938, 'lol me': 1552, 'me mầy': 1766, 'xinh ghê': 3352, 'hong': 1198, 'người_ta': 2114, 'chửi hả': 496, 'phụ_nữ': 2516, 'ngu': 2083, 'đầy_đủ': 3707, 'lời': 1728, 'nhắn_tin': 2243, 'qua_lại': 2531, 'sẽ': 2709, 'hư_thân': 1279, 'liên_sĩ': 1534, 'hy_vọng': 1219, 'mai': 1747, 'mắn': 1945, 'thành_công': 2811, 'phụ_nữ ngu': 2517, 'ngu ck': 2086, 'ck lo': 516, 'lo đầy_đủ': 1542, 'đầy_đủ ko': 3708, 'ko mê': 1448, 'mê lời': 1871, 'lời nhắn_tin': 1729, 'nhắn_tin qua_lại': 2244, 'qua_lại cuối_cùng': 2532, 'cuối_cùng sẽ': 602, 'sẽ chấp_nhận': 2710, 'chấp_nhận người': 408, 'người hư_thân': 2112, 'hư_thân mất_nết': 1280, 'mất_nết ko': 1934, 'ko liên_sĩ': 1443, 'liên_sĩ như_vậy': 1535, 'như_vậy hy_vọng': 2220, 'hy_vọng chồng': 1220, 'chồng mai': 469, 'mai mắn': 1748, 'mắn thành_công': 1946, 'thành_công trong': 2812, 'trong cuộc_sống': 2977, 'xê': 3385, 'đhs': 3519, 'dẹo đc': 938, 'cái mũi': 623, 'hiền': 1188, 'khúc': 1392, 'phút': 2495, 'trối_chết': 3023, 'hiền là': 1190, 'là hiền': 1592, 'hiền khúc': 1189, 'khúc đm': 1393, 'đm một': 3554, 'một phút': 1998, 'phút trối_chết': 2496, 'cj dễ_thương': 509, 'pr': 2525, 'fb': 996, 'nó ra': 2371, 'cưng': 703, 'xin': 3341, 'địa_chỉ': 3740, 'mũi xinh': 1916, 'cho xin': 325, 'xin địa_chỉ': 3342, 'gấp': 1132, 'xưởng': 3394, 'chuyên': 343, 'nữ': 2438, 'hà_nội': 1223, 'ghê_vl': 1019, 'hạnh_phúc': 1286, 'khac': 1349, 'phu': 2477, 'nu': 2295, 'bi': 66, 'may_mắn': 1760, 'phu nu': 2478, 'mọi': 1978, 'kiếp': 1417, 'chó': 371, 'đầu_thai': 3705, 'canh': 273, 'tính': 3092, 'ăn_vụng': 3486, 'làm chó': 1607, 'ngọc': 2125, 'kkk': 1431, 'thuê': 2803, 'cát': 632, 'bn': 82, 'cát xê': 633, 'ma': 1742, 'roi': 2575, 'di_do': 824, 'mat': 1754, 'net': 2031, 'nay': 2019, 'nhin': 2158, 'xh': 3338, 'trai ma': 2957, 'danh no': 800, 'no mot': 2281, 'mot tran': 1805, 'mat net': 1755, 'nào': 2307, 'chang': 293, 'gê': 1112, 'dc': 809, 'đóng': 3641, 'phim': 2476, 'đóng phim': 3642, 'xinhhh': 3357, 'im': 1335, 'im mồm': 1336, 'loại': 1567, 'ạnếu': 3824, 'rep': 2572, 'ddc': 811, 'cm': 538, 'loại mày': 1568, 'mày làm': 1846, 'làm đĩ': 1614, 'đĩ chó': 3656, 'chó ạnếu': 378, 'ạnếu rep': 3825, 'rep ddc': 2573, 'ddc cm': 812, 'cm mày': 539, 'mày là': 1845, 'là con': 1590, 'con phò': 570, 'phò chó': 2491, 'ai chị': 10, 'cộng_đồng': 754, 'diss': 830, 'uyên sợ': 3172, 'sợ cộng_đồng': 2720, 'cộng_đồng anti': 755, 'anti diss': 37, 'diss mới': 832, 'mới mọi': 2003, 'mọi đừng': 1979, 'chị_gái': 458, 'xạo': 3395, 'nhe': 2152, 'xạo lol': 3397, 'lol nhe': 1553, 'ứng_dụng': 3850, 'goodnight': 1104, 'link': 1522, 'gọi tâm': 1151, 'gượng': 1130, 'cố': 748, 'ăn mà': 3479, 'mà mũi': 1831, 'mũi đẹp': 1921, 'thế_thì': 2884, 'anti gọi': 39, 'chửi cm': 495, 'ah': 5, 'kg': 1345, 'giết': 1068, 'vợ bỏ': 3311, 'ah kg': 6, 'dkm phò': 845, 'phò đúng': 2494, 'đúng gái': 3649, 'già_mồm có': 1045, 'ckào': 525, 'đj': 3552, 'huhu': 1210, 'vào_cuộc': 3240, 'sim': 2655, 'khu_vực': 1365, 'bán': 122, 'kẻ': 1474, 'công_an vào_cuộc': 675, 'con_cái': 579, 'gia_đình': 1027, 'mừng': 2010, 'cặp': 742, 'thèm': 2824, 'tán': 3050, 'trai là': 2956, 'ngoại_tình còn': 2073, 'đỗ': 3767, 'xxx': 3370, 'dân': 886, 'gọi nó': 1147, 'kệ': 1476, 'con_mẹ': 582, 'kệ con_mẹ': 1479, 'lồn to': 1709, 'mỏi': 1984, 'dùm': 897, 'mụ': 2007, 'vk': 3198, 'mặt_dày': 1955, 'thiệt': 2790, 'dám': 881, 'vác_mặt': 3244, 'lấy': 1679, 'lòi': 1643, 'rẻ_tiền': 2613, 'xấu_hổ': 3412, 'nứng': 2428, 'dử': 964, 'hảngậm': 1295, 'bằng': 193, 'mụ vk': 2009, 'vk nhục_nhã': 3200, 'nhục_nhã đi': 2258, 'đi mặt_dày': 3526, 'mặt_dày thiệt': 1958, 'thiệt dám': 2791, 'dám vác_mặt': 883, 'vác_mặt nhà': 3245, 'nhà ck': 2180, 'ck lấy': 518, 'lấy đồ': 1683, 'đồ ck': 3758, 'ck hiền': 512, 'hiền nè': 1191, 'nè tui': 2342, 'tui tui': 3034, 'tui đánh': 3035, 'đánh lòi': 3602, 'lòi lồn': 1644, 'lồn đĩ': 1711, 'đĩ rẻ_tiền': 3664, 'rẻ_tiền nhục': 2614, 'nhục làm': 2256, 'làm xấu_hổ': 1612, 'xấu_hổ phụ_nữ': 3413, 'phụ_nữ nứng': 2518, 'nứng lồn': 2433, 'lồn dử': 1703, 'dử lắm': 965, 'lắm hảngậm': 1689, 'hảngậm bú': 1296, 'bú cu': 151, 'cu ck': 593, 'ck không': 514, 'không bằng': 1385, 'bằng bú': 194, 'cu bồ': 592, 'súc_vật': 2691, 'fame': 987, 'bú fame': 153, 'fame nha': 989, 'nghe': 2044, 'điện_thoại': 3548, 'cj cj': 508, 'gương_mặt': 1128, 'theo': 2779, 'gương_mặt giả_tạo': 1129, 'giả_tạo theo': 1057, 'theo lời': 2780, 'lời xạo': 1730, 'xạo lồn': 3400, 'căng': 685, 'của': 762, 'vợ căng': 3313, 'căng của': 686, 'của xã_hội': 763, 'xã_hội bỏ': 3382, 'bỏ đi': 220, 'đi ơi': 3536, 'chun': 339, 'buộc': 112, 'vl chun': 3204, 'chun buộc': 340, 'buộc tóc': 113, 'tóc mình': 3098, 'cc mầy': 286, 'bớt xạo': 240, 'nhắc': 2242, 'dị': 951, 'chời': 480, 'duyên': 877, 'nhaaaaa': 2148, 'nua': 2296, 'ly': 1584, 'zay': 3435, 'chuẩn': 346, 'mỏ': 1980, 'lozzz': 1564, 'ngoắt': 2074, 'ngoắt ngoắt': 2075, 'li': 1511, 'hung': 1211, 'phục': 2520, 'này mặt': 2320, 'anh chồng': 23, 'trâu mỏ': 2991, 'mỏ ngoắt': 1983, 'coi': 549, 'dô coi': 895, 'iu': 1337, 'thuong': 2802, 'nhu': 2173, 'vay': 3183, 'nhu vay': 2175, 'hẳn': 1300, 'bắp': 190, 'bơ': 156, 'cị': 745, 'vcl': 3188, 'cị xấu': 746, 'xấu vcl': 3407, 'qa': 2528, 'òi': 3461, 'bớt dẹo': 238, 'ca': 252, 'cháy': 357, 'bất_cái': 173, 'lz': 1586, 'bất_cái lz': 174, 'khùng mày': 1391, 'mày ngu': 1847, 'công_khai': 676, 'mn': 1790, 'để mn': 3733, 'dm': 846, 'vcut': 3191, 'dm xấu': 850, 'xấu vcut': 3408, 'sinh_nhật': 2657, 'tha_thứ': 2766, 'bánh sinh_nhật': 127, 'chàng': 350, 'chàng trai': 351, 'my': 1819, 'gội': 1154, 'my nguyễn': 1820, 'nguyễn gội': 2098, 'gội rồi': 1155, 'rồi xấu': 2623, 'xấu giọng': 3406, 'giọng sợ': 1082, 'sợ lun': 2721, 'đọc': 3748, 'stt': 2670, 'lươn_lẹo': 1665, 'chảnh': 403, 'buồi': 104, 'buồi tâm': 105, 'đẹp lắm': 3720, 'kkkkkk': 1432, 'có_dễ': 663, 'lôi': 1650, 'tù_tội': 3108, 'ghê_thiệt': 1016, 'chết hả': 430, 'hả kkkkkk': 1288, 'kkkkkk có_dễ': 1433, 'có_dễ chết': 664, 'chết lôi': 433, 'lôi ngta': 1651, 'ngta tù_tội': 2079, 'tù_tội ghê_thiệt': 3109, 'đb': 3498, 'đi giả_tạo': 3524, 'giả_tạo vl': 1058, 'tâm gọi': 3067, 'gọi nào': 1145, 'nào bú': 2308, 'hóng': 1263, 'kết': 1475, 'hóng kết': 1265, 'dau': 807, 'giải_thích': 1063, 'một rồi': 1999, 'giải_thích chi': 1064, 'ashley': 45, 'ashley vào': 46, 'tâm rán': 3075, 'nãy_giờ': 2333, 'đòi': 3631, 'tự_hào': 3161, 'mẹ đòi': 1967, 'đòi con': 3632, 'con như': 565, 'như tội': 2215, 'tội con': 3148, 'con sau_này': 573, 'sau_này lên': 2641, 'lên không': 1637, 'không dám': 1386, 'dám tự_hào': 882, 'tự_hào mẹ': 3162, 'ý_kiến': 3470, 'ý_kiến lồn': 3471, 'đợi': 3775, 'bộ': 234, 'hãm': 1249, 'lăng': 1661, 'đàn_bà lăng': 3576, 'hộ': 1324, 'chị_em': 457, 'dẹo hộ': 936, 'tô': 3102, 'hc': 1172, 'giận': 1065, 'đi nha': 3528, 'xuyên_tạc': 3366, 'đầu': 3701, 'ăn_cắp': 3480, 'cno': 546, 'phạt': 2504, 'cmn': 541, 'page thấy': 2460, 'thấy mùi': 2863, 'mùi xàm': 1886, 'xàm xuyên_tạc': 3376, 'xuyên_tạc mấy': 3367, 'mấy đầu': 1937, 'đầu chưa': 3704, 'chưa còn': 394, 'còn ăn_cắp': 653, 'ăn_cắp page': 3481, 'page về': 2462, 'về đăng': 3302, 'đăng mong': 3653, 'mong cno': 1802, 'cno phạt': 547, 'phạt và': 2505, 'và cmn': 3231, 'cmn page': 542, 'cỡ': 757, 'làm_quen': 1617, 'đanh': 3495, 'đo': 3559, 'block': 79, 'đựu': 3803, 'gì block': 1114, 'block fb': 81, 'fb ai': 997, 'ai đựu': 14, 'đã': 3615, 'sử quá': 2732, 'lỡ': 1732, 'zai': 3432, 'đếy': 3727, 'ms': 1810, 'xaolon': 3335, 'lỡ zai': 1733, 'zai đếy': 3434, 'đếy coi': 3728, 'coi thì': 551, 'thì ms': 2832, 'ms bt': 1811, 'bt đc': 98, 'đc xaolon': 3506, 'câu_chuyện': 642, 'lướt': 1666, 'tôi': 3103, 'đem': 3511, 'thành': 2810, 'siêu': 2658, 'chữ': 503, 'hot_girl': 1202, 'ôi': 3464, 'nước': 2403, 'cứ': 766, 'thế': 2875, 'scandal': 2642, 'thế thì': 2878, 'vkl': 3202, 'tin': 2913, 'ik': 1334, 'ank': 35, 'sợ đấy': 2725, 'đuma': 3565, 'thân': 2819, 'vầy': 3278, 'thuê đuma': 2805, 'đuma nói_chuyện': 3567, 'nói_chuyện fan': 2391, 'fan thân': 993, 'thân vầy': 2820, 'vầy địt_mẹ': 3279, 'địt_mẹ đéo': 3747, 'có_ăn': 667, 'ko mà': 1447, 'mà đòi': 1835, 'đòi có_ăn': 3633, 'ăn bánh': 3476, 'tát': 3054, 'tát con': 3055, 'lượt': 1671, 'tàn': 3047, 'đặng': 3714, 'xả': 3402, 'đixạo': 3542, 'bớt đixạo': 242, 'đixạo lồn': 3543, 'bệnh': 200, 'sưng hả': 2695, 'nguyên': 2094, 'nguyên bánh': 2095, 'cac': 258, 'lô cac': 1647, 'tủi': 3154, 'đi đừng': 3535, 'đừng nó': 3795, 'nyc': 2305, 'mặt to': 1953, 'giới_thiệu': 1093, 'diễn': 842, 'nghiệp': 2053, 'đũy': 3667, 'ăn_theo nghiệp': 3485, 'nghiệp lắm': 2054, 'lắm đũy': 1691, 'con này': 568, 'cj tâm': 510, 'đẹp gái': 3719, 'gái chị': 1109, 'ngồi': 2129, 'tên': 3085, 'xin_lỗi là': 3347, 'ka': 1341, 'khi': 1352, 'họ': 1307, 'nhân': 2191, 'cho hết': 320, 'thảo': 2855, 'tôn': 3105, 'lầm': 1684, 'tên tôn': 3086, 'tôn lầm': 3106, 'lầm nha': 1686, 'to_thế': 2937, 'ơi mũi': 3809, 'mũi to_thế': 1909, 'nhận': 2239, 'free': 1001, 'tắt con_mẹ': 3127, 'con_mẹ luôn': 583, 'tóc đầu': 3099, 'đầu buồi': 3703, 'buoi': 101, 'đầu buoi': 3702, 'buoi an': 102, 'an cứt': 18, 'nhỡ': 2253, 'nó luôn': 2364, 'tâm_lý': 3082, 'thông_tin': 2842, 'gói': 1124, 'gói về': 1125, 'học thì': 1312, 'tao tao': 2756, 'chạy': 398, 'khánh': 1374, 'đọng': 3752, 'họng': 1314, 'cave me': 280, 'me nói': 1769, 'nói nhìu': 2388, 'nhìu đọng': 2202, 'đọng họng': 3753, 'chân_thành': 358, 'xin_lỗi chân_thành': 3344, 'giống': 1089, 'to xấu': 2935, 'tức': 3155, 'ảnh_hưởng': 3829, 'này xàm': 2323, 'xàm vãi': 3375, 'đọc em': 3750, 'thô': 2837, 'chỉnh': 439, 'mũi thô': 1907, 'thô lên': 2838, 'lên live': 1638, 'live chỉnh': 1528, 'chỉnh đc': 440, 'này chứ': 2313, 'vđ': 3275, 'xấu vđ': 3411, 'một_chút': 2000, 'nầy': 2409, 'duma': 867, 'thua': 2797, 'thua đĩ': 2798, 'chủ_nhân': 485, 'bỏ_qua': 226, 'cũng_nên': 695, 'chủ_nhân bánh': 486, 'cuộc_đời': 604, 'nãy': 2332, 'đường chị': 3674, 'chửi chết': 494, 'chán': 355, 'lỗi': 1717, 'giờ': 1094, 'trộn': 3025, 'pr kem': 2526, 'kem trộn': 1344, 'nick': 2264, 'fake': 986, 'beat': 61, 'tưởng': 3113, 'đặt_hàng': 3716, 'khó_chịu': 1380, 'mà_lại': 1836, 'dùng': 898, 'lúc': 1655, 'triệu': 2973, 'mang_tiếng': 1752, 'đổi': 3765, 'vì': 3258, 'acc': 0, 'thế_là': 2881, 'phát': 2481, 'khóc': 1382, 'chết sống': 435, 'mà không': 1827, 'hơn': 1275, 'bẹt': 197, 'mũi bẹt': 1892, 'ad': 1, 'kén': 1463, 'chơi': 390, 'chung': 341, 'truyền_thông': 2979, 'trash': 2967, 'trước': 3006, 'pháp_luật': 2480, 'tụi': 3153, 'chuỗi': 348, 'cau': 276, 'hả_giận': 1290, 'con cho': 557, 'cho tao': 323, 'tao biết': 2750, 'biết chuỗi': 73, 'chuỗi cau': 349, 'cau cho': 277, 'cho hả_giận': 319, 'đột': 3770, 'lốt': 1698, 'quỳnh_trang': 2560, 'phương quỷ': 2498, 'quỷ đột': 2562, 'đột lốt': 3771, 'lốt page': 1699, 'page bẩn': 2453, 'bẩn nguyễn': 177, 'nguyễn quỳnh_trang': 2102, 'di_a': 820, 'đung': 3568, 'chong': 332, 'xa': 3332, 'xíu': 3387, 'đừng cười': 3793, 'cười sợ': 710, 'má': 1854, 'phép': 2486, 'chủ cái': 484, 'cái bánh': 614, 'mọc': 1976, 'thư': 2848, 'heloo': 1176, 'trông': 3000, 'giọng tâm': 1085, 'tâm cái': 3063, 'cái lol': 617, 'lol cát': 1550, 'cát zậy': 634, 'coi tức': 552, 'mũi ghê': 1896, 'vl cứt': 3205, 'võ': 3268, 'hào': 1238, 'rảnh': 2610, 'sinh': 2656, 'sau': 2639, 'chút': 389, 'kê': 1464, 'sát': 2683, 'hân': 1244, 'rác': 2580, 'likes': 1519, 'du': 860, 'diên': 839, 'nịnh': 2418, 'chòi': 370, 'ghê_á': 1021, 'cắn': 732, 'nai': 2012, 'đối_diện': 3754, 'thúi': 2846, 'đồ đàn_bà': 3762, 'đàn_bà thúi': 3580, 'xử_lý đẹp': 3424, 'style': 2671, 'nhìn': 2197, 'nồi': 2419, 'đổi style': 3766, 'style cái': 2672, 'cái nhìn': 624, 'nhìn cute': 2198, 'cute vãi': 600, 'vãi nồi': 3253, 'thiên': 2787, 'nge': 2042, 'hahha': 1167, 'võ thị': 3270, 'thị thiên': 2891, 'thiên trang': 2788, 'trang giọng': 2966, 'giọng đây': 1086, 'đây nge': 3614, 'nge nứng': 2043, 'nứng vãi': 2434, 'vãi hahha': 3250, 'tâm cute': 3062, 'phệt': 2514, 'phệt nói': 2515, 'nói gì': 2383, 'mỏ mỏ': 1982, 'mỏ lồn': 1981, 'mũi dị': 1895, 'dị vo': 953, 'nháy': 2190, 'thể': 2886, 'dẹo hả': 935, 'tình': 3089, 'nợ': 2426, 'bắn': 188, 'trúng': 3003, 'lời_nói': 1731, 'năm': 2402, 'phạm': 2501, 'sai_lầm': 2632, 'hiểu': 1192, 'gọi trúng': 1149, 'vợ mặt_dày': 3315, 'mặt_dày cái': 1956, 'cái mo': 622, 'tự_nhiên': 3163, 'to_vậy': 2938, 'tự_nhiên mũi': 3165, 'mũi to_vậy': 1910, 'chờ': 478, 'cũng ngoài': 693, 'said': 2633, 'gét': 1111, 'qá': 2565, 'ngứa qá': 2137, 'qá chj': 2566, 'dơ': 904, 'hôm_nay': 1269, 'quên': 2548, 'ốm': 3837, 'trò': 2999, 'mầy tâm': 1939, 'khép': 1377, 'xạol': 3401, 'bớt xạol': 241, 'kinh': 1411, 'ko sao': 1453, 'oi': 2446, 'lo lo': 1541, 'lo cc': 1540, 'hồng': 1320, 'hà': 1222, 'hồng hà': 1322, 'rate': 2571, 'nhạt_nhẽo': 2233, 'hien': 1182, 'ghen': 1009, 'bắc': 183, 'đụ nói': 3780, 'giọng nam': 1079, 'pham': 2470, 'pham thu': 2471, 'xử_lý hay': 3423, 'đàn_bà bỏ': 3573, 'được': 3677, 'công': 672, 'nch': 2025, 'gọi nữ': 1148, 'nch vs': 2029, 'giọng dẹo': 1075, 'nócho': 2378, 'vênh_vênh': 3256, 'mặtxem': 1961, 'taycái': 2761, 'bạt': 164, 'chắc': 412, 'chó đm': 376, 'đm nócho': 3555, 'nócho khác': 2379, 'khác đụ': 1370, 'đụ còn': 3777, 'còn vênh_vênh': 651, 'vênh_vênh mặtxem': 3257, 'mặtxem ngứa': 1962, 'ngứa taycái': 2138, 'taycái chó': 2762, 'chó mà': 374, 'mà cho': 1822, 'cho bạt': 316, 'bạt chắc': 165, 'như lồn': 2210, 'uôi': 3174, 'ginjg': 1036, 'nóng': 2398, 'ấm': 3833, 'uôi tâm': 3175, 'tâm bú': 3059, 'bú cặc': 152, 'cặc nhìu': 738, 'nhìu nên': 2201, 'nên ginjg': 2349, 'ginjg nó': 1037, 'nó nóng': 2370, 'nóng đéo': 2399, 'đéo ấm': 3625, 'đuổi': 3570, 'đống': 3756, 'tài_sản': 3044, 'nặng': 2413, 'miệng': 1784, 'cười mà': 709, 'khép miệng': 1378, 'trơ_trẽn': 3005, 'lay': 1502, 'tieng': 2907, 'dem': 815, 'du ma': 862, 'ma dan': 1743, 'dan lay': 791, 'lay trai': 1504, 'trai lon': 2955, 'lon tieng': 1559, 'tieng nua': 2908, 'nua loai': 2297, 'loai dem': 1545, 'dem ca': 816, 'ca an': 253, 'an me': 20, 'me roi': 1770, 'hả_hê': 1291, 'trc': 2968, 'ca_sĩ': 255, 'đạo': 3685, 'nhạc': 2227, 'hả_hê trc': 1292, 'trc đăng': 2969, 'đăng ca_sĩ': 3652, 'ca_sĩ ca_sĩ': 256, 'ca_sĩ đạo': 257, 'đạo nhạc': 3686, 'nhạc page': 2228, 'thân_thiện': 2822, 'tình_huống': 3090, 'áp': 3455, 'đeo áp': 3517, 'áp bồ': 3456, 'sung_sướng': 2677, 'sung_sướng rồi': 2678, 'rồi nứng': 2622, 'di_anh': 821, 'loan': 1546, 'can': 271, 'met': 1771, 'hihi': 1184, 'bo no': 92, 'no di_anh': 2273, 'di_anh co': 822, 'cho chửi': 318, 'con_mẹ mày': 585, 'xúc_phạm': 3392, 'thích': 2835, 'nhỉ': 2245, 'thèm nch': 2827, 'vs làm': 3219, 'làm đéo': 1613, 'ổn': 3840, 'em_trai': 979, 'toi': 2942, 'ơi miệng': 3808, 'miệng to_thế': 1785, 'dao': 801, 'sọt': 2711, 'xứng_đáng': 3419, 'này giết': 2315, 'giết chết': 1069, 'chết dơ': 429, 'dơ dao': 905, 'dao cái': 802, 'cái loại': 618, 'loại đàn_bà': 1572, 'hư thúi': 1278, 'thúi sọt': 2847, 'sọt rác': 2712, 'rác rồi': 2584, 'rồi không': 2619, 'không xứng_đáng': 1387, 'xứng_đáng vợ': 3420, 'vợ em': 3314, 'em đâu': 978, 'tật': 3124, 'éo': 3457, 'tật đó': 3125, 'lam': 1495, 'that': 2773, 'binh': 69, 'tiền hồng': 2918, 'hồng ngứa': 1323, 'ngứa dái': 2136, 'bedded': 63, 'bedded chị': 64, 'mom': 1800, 'tu': 3031, 'nhi': 2153, 'từ': 3157, 'tu nguyen': 3032, 'chả': 400, 'não': 2330, 'con chó': 558, 'tao mày': 2752, 'điếc': 3546, 'nhạt': 2229, 'trái': 2984, 'gí': 1120, 'lèm_bèm': 1634, 'lệch phải': 1693, 'phải trái': 2508, 'trái nhiều': 2985, 'nhiều gí': 2163, 'gí lồn': 1121, 'lồn lèm_bèm': 1708, 'chừa': 492, 'vô_duyên': 3265, 'hài_hước': 1227, 'hình_như': 1256, 'tồn_tại': 3145, 'xin_lỗi thì': 3348, 'hình_như đéo': 1257, 'đồng': 3763, 'đg': 3518, 'cha_mẹ': 292, 'mặt cho': 1950, 'uot': 3170, 'nhạt vc': 2231, 'vc uot': 3187, 'đm xấu': 3558, 'banh': 54, 'đéo đéo': 3623, 'mà chán': 1823, 'xiên': 3358, 'máy': 1859, 'nhát': 2189, 'này ko': 2317, 'ko tát': 1458, 'tát nào': 3056, 'nào vui': 2309, 'vui mẹ': 3225, 'mẹ hóng': 1965, 'hóng cái': 1264, 'cái tát': 627, 'tát xiên': 3057, 'xiên máy': 3359, 'máy nhát': 1860, 'điệu': 3550, 'chảy': 404, 'rớt': 2624, 'điệu chảy': 3551, 'chảy rớt': 405, 'rớt lol': 2625, 'tha lỗi': 2765, 'khốn': 1400, 'mà cái': 1826, 'cơ': 697, 'lên_tiếng': 1640, 'muộn': 1816, 'page lâu': 2455, 'lâu nó': 1628, 'nó nhiều': 2366, 'nhiều rác': 2167, 'rác cơ': 2581, 'cơ lạ': 698, 'lạ giờ': 1673, 'giờ page': 1096, 'page lên_tiếng': 2456, 'lên_tiếng đấy': 1641, 'đấy muộn': 3695, 'muộn hơn': 1817, 'đền': 3730, 'khắc': 1396, 'vết': 3294, 'sẹo': 2707, 'vỡ con': 3307, 'già_mồm ah': 1042, 'ah loại': 7, 'loại như': 1569, 'như khắc': 2207, 'khắc vết': 1397, 'vết sẹo': 3295, 'sẹo mặt': 2708, 'dzui': 879, 'ahihi': 8, 'tâm đừng': 3081, 'xuân': 3368, 'phai': 2469, 'đại_học': 3684, 'đỡ': 3773, 'mã': 1864, 'điii': 3541, 'bêdde': 133, 'bêdde chị': 134, 'tâm mũi': 3072, 'chị xinh': 455, 'dị vl': 952, 'tot': 2944, 'dep': 818, 'mà xấu': 1834, 'vl dị': 3206, 'heloo mã': 1177, 'đuma là': 3566, 'là thuê': 1602, 'thuê đéo': 2806, 'đéo nói_chuyện': 3621, 'thân đâu': 2821, 'đâu đuma': 3611, 'choi': 329, 'choi les': 330, 'thương': 2850, 'cbi': 284, 'vô_học': 3267, 'thuốc': 2807, 'điện': 3547, 'xài': 3371, 'là ng': 1597, 'lông_mày': 1654, 'ưa': 3819, 'phật': 2512, 'lan': 1499, 'chau': 295, 'ngan': 2037, 'ngoc': 2068, 'diễm': 840, 'góc': 1122, 'thỏ': 2892, 'chau ngan': 296, 'ngan ngoc': 2038, 'ngoc nguyễn': 2069, 'nguyễn ngọc': 2100, 'ngọc hồng': 2126, 'hồng diễm': 1321, 'diễm phạm': 841, 'phạm ngọc': 2502, 'ngọc khánh': 2127, 'khánh góc': 1375, 'góc giống': 1123, 'giống thỏ': 1090, 'tí': 3091, 'hế': 1301, 'đàn_bà thì': 3579, 'fl': 1000, 'qq': 2529, 'phan': 2472, 'hở': 1325, 'lợi': 1736, 'tâm chị': 3061, 'cười hở': 707, 'hở con_mẹ': 1326, 'con_mẹ lợi': 584, 'lợi rồi': 1737, 'học_sinh': 1313, 'thái': 2814, 'chí': 369, 'đánh_đập': 3608, 'chửi_bới': 502, 'thấm': 2857, 'đánh_đập gì': 3609, 'ko đc': 1459, 'cj add': 507, 'đù': 3645, 'gần': 1133, 'zợ': 3446, 'hậu_quả': 1299, 'trọng': 3022, 'nhỏ_xíu': 2248, 'chế': 424, 'dễ': 945, 'dịu': 955, 'đụ_mẹ': 3782, 'biển': 77, 'dung': 869, 'nhien': 2154, 'danh chết': 799, 'chết loai': 432, 'dan vứt': 794, 'vứt biển': 3322, 'biển dung': 78, 'dung nhien': 872, 'nhien tốn': 2155, 'tốn ca': 3141, 'ca lo': 254, 'mõm': 1883, 'diss mõm': 831, 'mõm đi': 1884, 'lịch_sự': 1695, 'xử_lí': 3421, 'tuyet': 3036, 'ám_ảnh': 3453, 'ám_ảnh vl': 3454, 'giả': 1055, 'trân': 2988, 'mng': 1792, 'câu': 640, 'nuôi': 2302, 'thanh_minh': 2770, 'tao mắc': 2753, 'noi lam': 2289, 'nhỏ': 2246, 'dục': 959, 'sokiu': 2663, 'tởm': 3150, 'đừng nói': 3796, 'nói giọng': 2382, 'giọng kiểu': 1077, 'kiểu tỏ': 1427, 'tỏ sokiu': 3137, 'sokiu đấy': 2664, 'đấy tởm': 3699, 'tởm zl': 3152, 'zl má': 3438, 'nhầm': 2238, 'gke': 1100, 'chiện khùng': 312, 'khùng lồn': 1390, 'lồn gke': 1705, 'hahaaaa': 1166, 'quảng_cáo': 2552, 'dừng': 963, 'vlin': 3210, 'iuuu': 1339, 'cứng': 769, 'fan cứng': 991, 'cơm': 700, 'dồn': 957, 'cứng nho': 770, 'bên': 137, 'trẩu': 3017, 'tre': 2970, 'nt': 2293, 'xưng': 3393, 'nhạt vl': 2232, 'lây': 1629, 'bat': 60, 'nui': 2298, 'quay': 2535, 'trên': 2995, 'nhiu': 2159, 'va': 3177, 'đag': 3490, 'la nguoi': 1488, 'quốc': 2556, 'ý_thức': 3472, 'sợ tâm': 2723, 'ốc': 3836, 'de': 813, 'hp': 1207, 'gd': 1007, 'ăn chả': 3477, 'chả ăn': 402, 'đách': 3591, 'hyy': 1221, 'nói_chuyện đách': 2395, 'đách lồn': 3592, 'lồn hyy': 1706, 'ròi': 2597, 'thầy': 2866, 'bây_giờ': 130, 'gieo': 1033, 'hạn': 1284, 'đàn': 3571, 'nà': 2306, 'thằng nầy': 2872, 'chồng mầy': 470, 'cơ_mà': 699, 'iu tâm': 1338, 'ngục': 2131, 'dza': 878, 'ngu ngục': 2089, 'nói_dối': 2396, 'livestream': 1530, 'liu': 1523, 'rồi còn': 2617, 'còn nói_dối': 649, 'nói_dối trong': 2397, 'trong kêu': 2978, 'kêu đường': 1466, 'đường như': 3675, 'như kia': 2208, 'kia ko': 1405, 'ko livestream': 1441, 'livestream ko': 1531, 'chị nhà': 447, 'nhà liu': 2181, 'liu liu': 1524, 'liu rồi': 1525, 'còn xạo': 652, 'xạo chó': 3396, 'ưi': 3821, 'phuc': 2479, 'bắt': 192, 'gian': 1029, 'văn_hóa': 3273, 'lịch_sử': 1694, 'nhanh': 2149, 'nhanh anh': 2150, 'cute chị': 599, 'mất': 1930, 'mặc': 1948, 'leo_lẻo': 1507, 'dạy': 920, 'họ_hàng': 1309, 'tuấn': 3039, 'giữ': 1097, 'ngta đéo': 2081, 'đéo ưa': 3624, 'ưa đếy': 3820, 'buồn_cười': 111, 'mode': 1796, 'mode giả_tạo': 1797, 'rủ': 2626, 'video': 3194, 'bằng_chứng': 196, 'đấm': 3689, 'làm_chi': 1616, 'thức': 2899, 'đáng': 3595, 'hãy': 1253, 'lày': 1623, 'ji': 1340, 'là người': 1598, 'người như_vậy': 2113, 'đừng đánh_đập': 3798, 'cua': 594, 'hoi': 1196, 'tai': 2742, 'la can': 1486, 'can cua': 272, 'cập': 728, 'xớm': 3417, 'củng': 764, 'ckck': 523, 'ớt': 3841, 'nhiển': 2169, 'nhét': 2195, 'lổ': 1713, 'sâu': 2686, 'này wa': 2322, 'wa có': 3327, 'có ng': 658, 'ng thèm': 2035, 'thèm cập': 2825, 'cập thì': 730, 'thì xớm': 2833, 'xớm củng': 3418, 'củng anh': 765, 'anh ckck': 25, 'ckck đc': 524, 'đc cập': 3500, 'cập bồ': 729, 'bồ nó': 231, 'nó bỏ': 2356, 'bỏ trái': 219, 'trái ớt': 2986, 'ớt sai': 3842, 'sai nhiển': 2631, 'nhiển nhét': 2170, 'nhét vô': 2196, 'vô lổ': 3263, 'lổ sâu': 1714, 'sâu ok': 2687, 'ok xong': 2449, 'ui': 3169, 'nhau': 2151, 'chu': 336, 'thương_tiếc': 2851, 'mai_mốt': 1749, 'đủ': 3783, 'già': 1039, 'lam gi': 1497, 'kiếm tiền': 1415, 'tâm cười': 3064, 'ngu chết': 2084, 'tên đi': 3087, 'đòn': 3634, 'đm tao': 3556, 'tao no': 2754, 'no đòn': 2283, 'lớn_tiếng': 1724, 'đang hư': 3494, 'hư lớn_tiếng': 1277, 'lớn_tiếng ảnh_hưởng': 1726, 'ảnh_hưởng phụ_nữ': 3830, 'viết': 3195, 'thành_thật': 2813, 'add với': 3, 'chương': 397, 'chồng nc': 471, 'nc khoa': 2021, 'khoa chương': 1358, 'người_đời': 2118, 'sắc': 2705, 'lô tâm': 1649, 'ống': 3839, 'cống': 752, 'rất': 2611, 'hoài': 1203, 'như mày': 2211, 'vỡ mồm': 3309, 'emm': 980, 'ngộ': 2130, 'ko thì': 1455, 'cũg': 689, 'hiếp': 1185, 'đụ fan': 3778, 'fan nè': 992, 'nè hãy': 2336, 'hãy hiếp': 1254, 'hiếp đi': 1187, 'đi lộn': 3525, 'lộn hãy': 1722, 'hãy yêu': 1255, 'yêu em': 3430, 'em đi': 977, 'gà': 1107, 'concac': 589, 'cho_xong': 326, 'chồng xử_lý': 474, 'đc hong': 3502, 'văn_minh': 3274, 'cô trứng': 669, 'quỹ': 2563, 'nói làm': 2387, 'chất': 411, 'dâm': 884, 'duc': 863, 'phải tải': 2509, 'lúng_túng': 1657, 'câm đi': 639, 'rực_rỡ': 2627, 'hành_động': 1237, 'cứu': 773, 'đó kiểu': 3637, 'kiểu dm': 1422, 'dm cứu': 847, 'cứu con': 774, 'con nó': 569, 'nó điên': 2377, 'phí': 2487, 'để ng': 3734, 'bệnh_tật': 201, 'chết bệnh_tật': 426, 'bệnh_tật lồn': 202, 'tâm to': 3076, 'to yêu': 2936, 'yêu tâm': 3431, 'theo_dõi': 2781, 'tánh': 3053, 'nửa': 2437, 'lưỡi': 1667, 'cắn lưỡi': 733, 'dume': 868, 'con_gái dume': 581, 'hoàng đại_ca': 1205, 'là nam': 1596, 'ew': 982, 'wtf': 3331, 'ew đụ': 983, 'đụ wtf': 3781, 'khoai': 1359, 'phết': 2513, 'mạng': 1929, 'nó đeo': 2374, 'đeo gi': 3515, 'luyện': 1577, 'tù': 3107, 'luyện đi': 1578, 'đi tù': 3532, 'ny': 2304, 'tìm': 3088, 'công_an tìm': 674, 'câm miệng': 636, 'lên_giọng': 1639, 'gap': 1006, 'mặt_đường': 1959, 'mặt_dày mặt_đường': 1957, 'mặt_đường buồn': 1960, 'buồn cl': 108, 'cl tao': 529, 'tao nè': 2755, 'táng': 3051, 'đia': 3538, 'nàu': 2310, 'táng chết': 3052, 'nó đia': 2376, 'đia ko': 3539, 'ko nói': 1452, 'nói loại': 2386, 'loại nàu': 1570, 'nòn': 2353, 'chìa': 365, 'vãi nòn': 3252, 'nòn răng': 2354, 'răng niềng': 2607, 'niềng cứ': 2266, 'cứ chìa': 767, 'chìa chìa': 366, 'chìa là': 367, 'là sao': 1600, 'sao ta': 2638, 'vãi lồn': 3251, 'chẳng_qua': 421, 'tại_trận': 3117, 'hôm_qua': 1270, 'hack': 1163, 'trà': 2981, 'rõ': 2600, 'kiểu hack': 1424, 'di': 819, 'duc vo': 864, 'vo cai': 3213, 'cai mo': 265, 'mo nó': 1794, 'nó di': 2361, 'thi': 2784, 'diu': 835, 'thi hien': 2785, 'hien diu': 1183, 'diu dm': 836, 'cave cặn_bã': 279, 'chả chị': 401, 'chị tôn': 451, 'lầm nghe': 1685, 'nghe chửi': 2045, 'nảy': 2408, 'nát': 2326, 'xấu chết': 3404, 'huỳnh thư': 1218, 'hahaa': 1165, 'ha': 1161, 'dcm': 810, 'hệ_thống': 1306, 'lad': 1492, 'ngang': 2039, 'ho': 1193, 'chat': 294, 'het': 1179, 'dan het': 789, 'mũi ốm': 1923, 'ốm hả': 3838, 'thề': 2885, 'ditme': 833, 'kịch_bản': 1481, 'thuộc': 2808, 'ditme kịch_bản': 834, 'kịch_bản thuộc': 1482, 'ckao': 522, 'giống trâu': 1091, 'chó ko': 373, 'ko nhục': 1450, 'bự_vậy': 251, 'con cặc': 559, 'anh_hùng': 33, 'ngoan': 2067, 'úp': 3469, 'một_cách': 2001, 'tàn_nhẫn': 3048, 'sự': 2736, 'cực_khổ': 777, 'mất_dạy': 1931, 'giải_quyết': 1062, 'chơi trò': 392, 'to chị': 2927, 'lolll': 1556, 'nam đéo': 2018, 'đéo nam': 3619, 'nam bắc': 2014, 'bắc đéo': 187, 'đéo bắc': 3617, 'bắc mày': 186, 'mày giọng': 1843, 'giọng đỡ': 1087, 'đỡ dẹo': 3774, 'dẹo con': 933, 'con lolll': 562, 'vlz': 3211, 'răng vlz': 2609, 'hu': 1209, 'than': 2767, 'huy': 1213, 'ăn_vụng bánh': 3487, 'ví_dụ': 3259, 'ví_dụ cl': 3260, 'sanh': 2634, 'sanh tật': 2635, 'tiếc': 2914, 'buồn lắm': 109, 'chán uyên': 356, 'uyên vc': 3173, 'mà là': 1828, 'tế': 3133, 'tiktok': 2911, 'dẹp': 940, 'dẹp răng': 941, 'răng nạo': 2608, 'dừa chị': 961, 'giông': 1051, 'mây': 1862, 'ba trai': 49, 'ma đôi': 1746, 'đôi nó': 3644, 'nó giông': 2363, 'giông mây': 1052, 'mây ha': 1863, 'ha con': 1162, 'thế_nào': 2883, 'như thế_nào': 2214, 'bye': 114, 'bạn_bè': 163, 'he': 1173, 'kiều': 1418, 'oanh': 2444, 'võ phan': 3269, 'phan kiều': 2473, 'kiều oanh': 1419, 'em dẹo': 970, 'dẹo chị': 932, 'tưởi': 3111, 'hung clm': 1212, 'clm con_người': 535, 'con_người bẩn': 587, 'bẩn tưởi': 179, 'tưởi thật_sự': 3112, 'thật_sự ấy': 2869, 'cái_trò': 630, 'khổ_thân': 1403, 'shiper': 2650, 'dịch': 954, 'dây': 888, 'anh shiper': 29, 'thấy hàm_răng': 2862, 'xinhh': 3356, 'ít': 3459, 'lai_di_mày': 1494, 'sửa mũi': 2734, 'mũi ít': 1919, 'ít to': 3460, 'to lai_di_mày': 2929, 'xaolol': 3333, 'nghe kia': 2046, 'kia nch': 1407, 'nch cũg': 2027, 'cũg kiểu': 690, 'kiểu xaolol': 1428, 'xaolol ghê': 3334, 'tiện': 2921, 'ác_ý': 3451, 'dth': 858, 'quớ': 2557, 'tự_ái': 3168, 'chị ngu': 446, 'ngu lại': 2088, 'lại tự_ái': 1675, 'thông_cảm': 2841, 'suy_nghĩ': 2682, 'thây': 2823, 'đi nó': 3530, 'đăng_ký': 3654, 'đơn_giản': 3671, 'nói hây': 2384, 'hây làm': 1246, 'làm hong': 1610, 'hong anh': 1199, 'anh có': 26, 'có được': 662, 'được đĩ': 3679, 'đĩ nầy': 3663, 'nầy hong': 2411, 'bữa': 243, 'bữa chị': 244, 'ùi': 3468, 'phát_ngôn': 2482, 'less': 1510, 'gio': 1038, 'vay ma': 3184, 'ma no': 1744, 'hot': 1201, 'đáng nể': 3597, 'phân_biệt': 2484, 'miền': 1780, 'ng nam': 2033, 'nam thấy': 2016, 'thấy bạn': 2860, 'bạn phân_biệt': 161, 'phân_biệt miền': 2485, 'miền đó': 1783, 'đó chỉ': 3636, 'chỉ bắc': 438, 'bắc kì': 184, 'kì chơi': 1468, 'chơi kì': 391, 'trí': 2997, 'trí lý': 2998, 'lý cái': 1659, 'cái lz': 619, 'lz ngta': 1587, 'ngta dị': 2077, 'ôi vcl': 3465, 'đi niềng': 3529, 'màu': 1839, 'thù': 2843, 'mxh': 1818, 'sủa': 2726, 'trình_độ': 2996, 'cmm': 540, 'ngủ cmm': 2133, 'máu': 1857, 'đổ': 3764, 'đc nói_chuyện': 3504, 'lũ': 1664, 'ơn': 3818, 'mẫu': 1940, 'cmnr': 543, 'làm_ơn': 1621, 'làm_ơn đừng': 1622, 'cái giọng': 616, 'giọng lồn': 1078, 'lồn vậy': 1710, 'mỡ bắp': 2005, 'bắp bơ': 191, 'clgt': 531, 'xd': 3336, 'clgt xd': 532, 'tỏi': 3138, 'củ tỏi': 761, 'lúc_nào': 1656, 'nhảy': 2235, 'lè lưỡi': 1632, 'mồm lúc_nào': 1989, 'đoi': 3560, 'voi chong': 3216, 'cung': 595, 'biet': 67, 'nghi': 2050, 'doi': 853, 'luc': 1573, 'voi trai': 3217, 'quen': 2537, 'ai vô_duyên': 13, 'vô_duyên chị': 3266, 'bỏ_tù': 227, 'rút': 2602, 'kinh_nghiệm': 1413, 'rút kinh_nghiệm': 2603, 'trâu em': 2990, 'làm để': 1615, 'tan': 2745, 'đi già_mồm': 3523, 'già_mồm thằng': 1047, 'thằng mày': 2871, 'mày tan': 1849, 'tan rồi': 2747, 'rồi nha': 2621, 'nha đi': 2147, 'chấm_mút': 406, 'bóp': 146, 'bóp đàng_hoàng': 147, 'kèo': 1462, 'mượn': 1927, 'ơiiiii': 3815, 'bím': 144, 'thèm gọi': 2826, 'ak': 15, 'di_ban': 823, 'nuoi': 2301, 'giùm': 1053, 'hút': 1272, 'kẹo': 1473, 'ch': 289, 'sai già_mồm': 2629, 'già_mồm đàn_bà': 1048, 'đàn_bà nên': 3578, 'nên vứt': 2351, 'đạo_đức': 3687, 'luật': 1583, 'trường_hợp': 3008, 'vương': 3277, 'nguyên vương': 2096, 'bết': 198, 'love': 1562, 'tóc bết': 3097, 'đứa chửi': 3785, 'rác vl': 2585, 'thui': 2801, 'me may': 1765, 'đẫy': 3709, 'địt đẫy': 3744, 'tại_sao': 3116, 'hok': 1197, 'bật': 181, 'mà chửi': 1825, 'đĩ dẹo': 3657, 'cậu': 731, 'chê': 363, 'khịa': 1398, 'chửi đũy': 501, 'đũy khịa': 3668, 'douma': 855, 'douma đĩ': 856, 'đĩ xạo': 3665, 'xạo lz': 3399, 'coi_chừng': 554, 'vợ_con': 3319, 'mỹ': 2011, 'hạnh': 1285, 'bả': 166, 'dậu': 926, 'heo': 1178, 'to dậu': 2928, 'dậu heo': 927, 'treo': 2972, 'chìm': 368, 'làm_ăn': 1620, 'móa': 1877, 'hảm': 1293, 'tốt': 3143, 'cachúc': 260, 'móa hảm': 1878, 'hảm bỏ_mẹ': 1294, 'bỏ_mẹ là': 224, 'là tốt': 1603, 'tốt đại': 3144, 'đại cachúc': 3681, 'cachúc đại_ca': 261, 'đại_ca nhiều': 3683, 'nhiều may_mắn': 2165, 'may_mắn con': 1761, 'phò này': 2493, 'già_mồm chồng': 1044, 'chồng tử_tế': 473, 'dẹo mệt': 937, 'vãi được': 3255, 'good': 1102, 'good con_mẹ': 1103, 'làm_sao': 1618, 'gửi': 1159, 'kiện': 1429, 'cảm_thấy': 722, 'hề': 1304, 'bịa_đặt': 207, 'nếu': 2414, 'dễ_dàng': 946, 'dắt_mũi': 929, 'làm_sao gửi': 1619, 'gửi đơn': 1160, 'đơn kiện': 3670, 'kiện page': 1430, 'rác_rưởi thế': 2588, 'thế mn': 2877, 'mn cảm_thấy': 1791, 'cảm_thấy may_mắn': 723, 'may_mắn từ': 1762, 'từ giờ': 3158, 'giờ chưa': 1095, 'chưa hề': 395, 'hề like': 1305, 'page và': 2461, 'và ko': 3232, 'gì những': 1118, 'những viết': 2263, 'viết bịa_đặt': 3196, 'bịa_đặt rác_rưởi': 208, 'rác_rưởi page': 2587, 'page nếu': 2458, 'nếu ko': 2415, 'ko dễ_dàng': 1439, 'dễ_dàng dắt_mũi': 947, 'dắt_mũi rồi': 930, 'mũi quá': 1905, 'hận': 1297, 'hận đàn_bà': 1298, 'nể ck': 2417, 'này làm': 2318, 'xinh vl': 3355, 'khéo': 1376, 'xinh chị': 3351, 'nghèo': 2056, 'cặp_bồ': 743, 'này xấu': 2324, 'xấu cũng': 3405, 'cũng cặp_bồ': 692, 'cặp_bồ vl': 744, 'chữ khốn_nạn': 505, 'phản_dame': 2510, 'phản_dame câu': 2511, 'câu kệ': 641, 'kệ anh': 1477, 'anh chị': 22, 'bo hả': 87, 'tạo': 3118, 'súc_vật ghét': 2692, 'ghét bọn': 1012, 'bọn truyền_thông': 214, 'truyền_thông bẩn': 2980, 'bẩn rác_rưởi': 178, 'duoc': 874, 'ơii': 3812, 'hã': 1247, 'đế': 3723, 'né': 2344, 'mũi lỗi': 1900, 'lỗi hã': 1718, 'hã nổ': 1248, 'nổ địa_chỉ': 2421, 'địa_chỉ đế': 3741, 'đế né': 3724, 'phang': 2474, 'mày đéo': 1852, 'đéo thèm': 3622, 'thèm nhiều': 2828, 'nhiều chi': 2162, 'chi mệt': 304, 'mệt tôi': 1971, 'tôi phang': 3104, 'phang sml': 2475, 'búa': 154, 'card': 274, 'lưỡi con': 1668, 'con card': 556, 'card ngta': 275, 'thế_mà': 2882, 'so': 2662, 'đê': 3626, 'vy nè': 3228, 'nè sủa': 2341, 'sủa đê': 2727, 'đê hít': 3627, 'hít cưng': 1261, 'mũi nhỏ': 1904, 'nhỏ ta': 2247, 'tream': 2971, 'drama': 857, 'cha_anh': 291, 'lồn cha_anh': 1701, 'call': 268, 'đêm': 3629, 'thời': 2894, 'nứng lol': 2432, 'nghỉ': 2064, 'đời': 3772, 'quả_báo': 2551, 'về làm': 3298, 'khiếp': 1355, 'ngựa': 2142, 'cay': 281, 'matlon': 1756, 'la_liếm': 1490, 'nghệ_sĩ': 2061, 'khácbịa': 1371, 'giựt': 1098, 'tít': 3094, 'bữapage': 246, 'thuanhư': 2799, 'nhờ': 2251, 'matlon la_liếm': 1757, 'la_liếm nghệ_sĩ': 1491, 'nghệ_sĩ đến': 2063, 'đến nghệ_sĩ': 3726, 'nghệ_sĩ khácbịa': 2062, 'khácbịa giựt': 1372, 'giựt tít': 1099, 'tít like': 3095, 'like cơm': 1516, 'cơm bữapage': 701, 'bữapage rác': 247, 'rác gần': 2582, 'gần likes': 1134, 'likes cũng': 1520, 'cũng thuanhư': 694, 'thuanhư kiểu': 2800, 'hack nhờ': 1164, 'tuổi': 3041, 'phạm thị': 2503, 'tx': 3042, 'ck là': 517, 'số': 2713, 'kỹ': 1484, 'shit': 2652, 'ủng_hộ': 3845, 'bài': 117, 'fanpage': 994, 'sôi_máu': 2689, 'ủng_hộ page': 3846, 'page đăng': 2464, 'đăng bài': 3651, 'bài này': 118, 'này mang_tiếng': 2319, 'mang_tiếng một': 1753, 'một fanpage': 1997, 'fanpage triệu': 995, 'triệu like': 2974, 'like sống': 1518, 'sống chó': 2715, 'chó đọc': 377, 'đọc tức': 3751, 'tức sôi_máu': 3156, 'con quỹ': 572, 'quỹ tởm': 2564, 'tởm kinh': 3151, 'thực_sự': 2902, 'giới': 1092, 'nói_chuyện mắc': 2393, 'xin_lỗi cl': 3345, 'dạ': 917, 'toang': 2939, 'quang': 2534, 'nguyễn quang': 2101, 'zô': 3442, 'ziên': 3436, 'zô ziên': 3443, 'nhái': 2187, 'giọng như': 1080, 'như lol': 2209, 'lol em': 1551, 'em mong': 974, 'mong đừng': 1803, 'đừng nhái': 3794, 'nhái giọng': 2188, 'giọng bắc': 1072, 'mát': 1856, 'giọng cặc': 1074, 'khuya': 1366, 'khuya cl': 1367, 'cl gi': 527, 'gi gio': 1023, 'thì đừng': 2834, 'xu': 3364, 'đàng_bà': 3587, 'gọi chang': 1140, 'thù_hằn': 2844, 'trơ': 3004, 'zị': 3445, 'the': 2776, 'lien': 1514, 'og': 2445, 'vo no': 3214, 'no noi': 2282, 'nhu the': 2174, 'cx': 605, 'sâu vl': 2688, 'nghee': 2048, 'traii': 2959, 'huống': 1215, 'chii': 307, 'nghee giọng': 2049, 'giọng traii': 1084, 'traii nứng': 2960, 'nứng huống': 2430, 'huống chii': 1216, 'chii tâm': 308, 'vy đừng': 3229, 'đừng share': 3797, 'share quần': 2647, 'quần về': 2554, 'về page': 3299, 'page nó': 2457, 'nó dơ_bẩn': 2362, 'dơ_bẩn lắm': 909, 'lịt': 1696, 'mọe': 1977, 'lịt mọe': 1697, 'ủa': 3843, 'có ác_ý': 660, 'ác_ý mà': 3452, 'chửi ngta': 498, 'ngta địt_mẹ': 2082, 'mày ủa': 1853, 'ủa vậy': 3844, 'trường': 3007, 'mắc ỉa': 1944, 'có tên': 659, 'thuỳ': 2809, 'ngân': 2108, 'thay_đổi': 2775, 'người_yêu': 2117, 'ntn': 2294, 'àk': 3447, 'làm loại': 1611, 'show': 2653, 'vú': 3271, 'show vú': 2654, 'xấu_thế': 3414, 'vv': 3226, 'khó_khăn': 1381, 'óc': 3462, 'xấu vãi': 3410, 'văn': 3272, 'lấn': 1677, 'mũi mà': 1902, 'mà lấn': 1829, 'lấn ác': 1678, 'ác cái': 3449, 'cái vậy': 628, 'đỹ': 3804, 'súc_sinh': 2690, 'con đỹ': 578, 'lạy': 1676, 'clm tự_nhiên': 537, 'tự_nhiên họ': 3164, 'họ fl': 1308, 'suc': 2675, 'vat': 3181, 'suc vat': 2676, 'vat bo': 3182, 'anh oi': 28, 'nó nói': 2369, 'cực': 775, 'cực rác': 776, 'lăng_loàn': 1662, 'bền': 199, 'đàng_bà lăng_loàn': 3588, 'lăng_loàn nó': 1663, 'nó thằng': 2372, 'nầy cung': 2410, 'cung ko': 596, 'ko bền': 1437, 'quê': 2547, 'tự': 3160, 'day': 808, 'quả': 2549, 'dưa_hấu': 914, 'bự quả': 250, 'quả dưa_hấu': 2550, 'dưa_hấu ghê': 915, 'nhìn mũi': 2199, 'đề_nghị': 3729, 'tặng': 3130, 'đạo_đức giả': 3688, 'cưới': 704, 'vãi thả': 3254, 'nhieu': 2156, 'vui lắm': 3224, 'nở': 2425, 'chs': 335, 'fire': 998, 'free fire': 1002, 'fire ko': 999, 'chủi': 487, 'nungl': 2299, 'hứa_hẹn': 1328, 'góp_ý': 1126, 'là bé': 1589, 'bé chủi': 132, 'chủi nungl': 488, 'nungl đm': 2300, 'đm xin_lỗi': 3557, 'xin_lỗi hứa_hẹn': 3346, 'hứa_hẹn góp_ý': 1329, 'góp_ý block': 1127, 'block dơ': 80, 'mũi xấu': 1918, 'hồi': 1319, 'quật': 2555, 'vổ': 3303, 'dô diên': 896, 'mỗi': 1995, 'bêddee': 135, 'bêddee chị': 136, 'trẻ': 3020, 'apple': 43, 'watch': 3330, 'trẻ trâu': 3021, 'apple watch': 44, 'bình_luận đi': 140, 'chết cụ': 428, 'cụ đi': 759, 'dick': 828, 'chó_đẻ': 379, 'dick chó_đẻ': 829, 'chó_đẻ vãi': 380, 'cười vl': 713, 'ko trả_lời': 1457, 'thich': 2786, 'đẻ': 3722, 'nguyễn thị': 2103, 'khó': 1379, 'ngậm mồm': 2124, 'mồm chị': 1988, 'ncc': 2024, 'xây': 3380, 'xử_phạt': 3425, 'oiii': 2447, 'giọng nứng': 1081, 'nứng anh': 2429, 'anh zai': 30, 'zai oiii': 3433, 'thôi khuya': 2840, 'khuya đéo': 1368, 'ig': 1333, 'trốn': 3024, 'mắt': 1947, 'cạn_lời': 718, 'kệ chị': 1478, 'ý_định niềng': 3474, 'niềng ko': 2267, 'sạo': 2699, 'sạo lồn': 2700, 'cam': 269, 'cộng': 753, 'bao tiền': 56, 'vcl đcm': 3190, 'facebook': 985, 'tường': 3110, 'chứa': 491, 'não chứa': 2331, 'ck ko': 515, 'sống nó': 2716, 'loài': 1565, 'dăm': 899, 'tac': 2741, 'tra về': 2949, 'về chu': 3297, 'chu em': 337, 'em loài': 973, 'loài dăm': 1566, 'dăm tac': 900, 'ko buồn': 1436, 'mieng': 1772, 'moi': 1798, 'duoi': 876, 'no moi': 2280, 'ko thèm': 1454, 'ngại': 2120, 'tâm ngủ': 3073, 'dầu': 923, 'sẵn': 2706, 'nữ bạn': 2439, 'dở_vcl': 958, 'ảnh anti': 3827, 'anti đm': 40, 'nhu_nhược': 2176, 'nén': 2345, 'su': 2673, 'cai thang': 266, 'thang chong': 2769, 'chong nhu_nhược': 334, 'nhu_nhược nén': 2177, 'nén vo': 2346, 'moi vay': 1799, 'vay được': 3185, 'được tai': 3678, 'tai tran': 2743, 'tran ma': 2962, 'no ly': 2278, 'ly su': 1585, 'su nha': 2674, 'nha no': 2146, 'no an': 2272, 'an hiếp': 19, 'hiếp chong': 1186, 'chong du': 333, 'du lam': 861, 'lam day': 1496, 'bớt cười': 237, 'miết': 1778, 'cún': 679, 'lưỡi lè': 1669, 'lè lè': 1631, 'lè miết': 1633, 'miết tưởng': 1779, 'tưởng cún': 3114, 'cún đầu_thai': 680, 'đầu_thai ko': 3706, 'thể_loại': 2887, 'thể_loại đàn_bà': 2888, 'đàn_bà thế': 3581, 'pha': 2467, 'pha xử_lý': 2468, 'đẹp vợ': 3721, 'vợ ngủ': 3316, 'ngủ trai': 2134, 'trai bỏ_mẹ': 2952, 'bỏ_mẹ đi': 225, 'đi đồ': 3534, 'đàn_bà dâm': 3574, 'dâm tac': 885, 'tao đéo': 2757, 'cười vlin': 714, 'chúc_mừng': 384, 'sợ chị': 2719, 'chị tâm': 450, 'đuy': 3569, 'cười vcl': 712, 'dao tim': 804, 'chị chị': 443, 'trần tâm': 3015, 'nguyễn văn': 2105, 'thoi': 2792, 'chị gọi': 445, 'gọi khác': 1143, 'sát màn_hình': 2684, 'màn_hình sợ': 1838, 'sát_thủ': 2685, 'tính_năng': 3093, 'thảo nguyễn': 2856, 'nguyễn trang': 2104, 'trang beat': 2964, 'beat sợ': 62, 'sợ chó': 2718, 'chó bọn': 372, 'bọn rác': 213, 'rác nhau': 2583, 'li_dị': 1512, 'đánh đĩ': 3605, 'đĩ một': 3662, 'rồi li_dị': 2620, 'li_dị đi': 1513, 'đi oi': 3531, 'mũi khó_chịu': 1898, 'nắm_đấm': 2412, 'to nắm_đấm': 2931, 'que': 2536, 'cuoc': 597, 'vụ': 3320, 'thoii': 2793, 'tẩy_chay': 3123, 'đánh chết': 3601, 'gì mỏi': 1117, 'mỏi mồm': 1985, 'mồm vợ': 1992, 'vợ đấy': 3318, 'đấy cũng_nên': 3692, 'cũng_nên luôn': 696, 'luôn cái': 1580, 'cái vợ': 629, 'đấy gì': 3693, 'gì cave': 1115, 'chờ chi': 479, 'xạo lon': 3398, 'zui': 3439, 'zui chết': 3440, 'dẻ': 943, 'to nè': 2930, 'nè mồm': 2339, 'mồm to': 1990, 'nè mũi': 2338, 'mũi chị': 1894, 'chị to': 448, 'nè cái': 2335, 'cái con': 615, 'đỹ lon': 3805, 'lon trần': 1560, 'tâm nè': 3074, 'nè nhân_cách': 2340, 'nhân_cách dẻ': 2193, 'dẻ rách': 944, 'rách đụ': 2591, 'đi ngoại_tình': 3527, 'còn giọng': 646, 'chồng đáng': 475, 'này đéo': 2325, 'bà_cô': 116, 'kim': 1408, 'em ik': 972, 'bậy': 182, 'chửi mặt': 497, 'wa ơi': 3329, 'tuần': 3040, 'bị điên': 206, 'ói': 3463, 'cặc sướng': 739, 'sướng chết': 2697, 'chết ói': 436, 'vd': 3192, 'tik': 2909, 'tok': 2943, 'tik tok': 2910, 'hài': 1226, 'chịch': 459, 'bỏ_mạng': 221, 'tại_chỗ': 3115, 'chịch còn': 460, 'còn lớn_tiếng': 647, 'lớn_tiếng ck': 1725, 'ck miền': 519, 'miền nam': 1782, 'nam gặp': 2015, 'gặp thằng': 1138, 'thằng đàn_ông': 2873, 'đàn_ông miền': 3585, 'miền bắc': 1781, 'bắc là': 185, 'là mụ': 1595, 'mụ bỏ_mạng': 2008, 'bỏ_mạng tại_chỗ': 222, 'nói quá': 2389, 'nen': 2030, 'ứa': 3847, 'sấu': 2703, 'sấu vcl': 2704, 'lấy búa': 1680, 'búa dô': 155, 'dô chị': 894, 'chị wa': 454, 'rô': 2598, 'nựng': 2442, 'người_ta rô': 2116, 'rô nựng': 2599, 'nựng cu': 2443, 'bôi': 148, 'mèo': 1867, 'de ngu': 814, 'ngu chồng': 2085, 'chồng bôi': 467, 'bôi mèo': 149, 'mèo lon': 1868, 'lon cho': 1558, 'hết ngứa': 1303, 'ngứa xong': 2139, 'mương': 1925, 'nê': 2347, 'nói_chuyện lịch_sự': 2392, 'chuan': 338, 'bo_di': 94, 'da do': 779, 'do bo_di': 852, 'mướn': 1926, 'giet': 1034, 'giet may': 1035, 'may ban': 1759, 'duoc roi': 875, 'dựng_phim': 966, 'lừa': 1740, 'chó sạo': 375, 'lồn dựng_phim': 1704, 'dựng_phim lừa': 967, 'lừa cộng_đồng': 1741, 'cộng_đồng theo_dõi': 756, 'theo_dõi đụ': 2782, 'đụ mày': 3779, 'mày chó_đẻ': 1842, 'bữa_nay': 245, 'mượn phút': 1928, 'vây': 3247, 'kệ mịa': 1480, 'mịa tâm': 1975, 'bo me': 90, 'đéo gì': 3618, 'thâm': 2817, 'đên': 3630, 'lồn chắc': 1702, 'chắc thâm': 413, 'thâm màu': 2818, 'màu đên': 1840, 'luon': 1576, 'rat': 2570, 'khoi': 1361, 'noi rat': 2291, 'khoi nha': 1362, 'nha la': 2144, 'la dung': 1487, 'dung roi': 873, 'baa': 50, 'tang': 2748, 'no may': 2279, 'bẩn vđ': 180, 'hoá': 1206, 'hà_vi': 1224, 'dập': 924, 'hà_vi đọc': 1225, 'đọc coi': 3749, 'coi bọn': 550, 'bọn có': 210, 'có dập': 657, 'dập chết': 925, 'cắt_cổ': 735, 'moẹ': 1808, 'câm moẹ': 637, 'moẹ mồm': 1809, 'mồm đi': 1994, 'quỳnh': 2558, 'giang quỳnh': 1031, 'quỳnh nhi': 2559, 'chim': 309, 'vi': 3193, 'trùm': 3002, 'rồi gì': 2618, 'dại': 918, 'đc dm': 3501, 'bỏ mấy': 218, 'xinh qué': 3354, 'sao hông': 2637, 'đan': 3491, 'chông': 381, 'bac': 51, 'dưa': 913, 'thư đan': 2849, 'đan bo': 3492, 'bo chông': 85, 'chông bo': 382, 'bo như': 91, 'như vây': 2216, 'vây đanh': 3248, 'đanh vai': 3496, 'vai bac': 3179, 'bac no': 52, 'no dưa': 2276, 'bưng_bít': 157, 'gọi điện': 1153, 'bik': 68, 'thế ko': 2876, 'ko bik': 1435, 'ck tuyệt_vời': 520, 'cai lon': 264, 'ko lỗi': 1445, 'chắc_chắn': 415, 'đùa': 3646, 'xui': 3365, 'vao': 3180, 'cai loai': 263, 'nguoi khac': 2091, 'camera': 270, 'vẻ': 3292, 'tâm em': 3066, 'nhở': 2252, 'vcl nhở': 3189, 'con mặt': 564, 'mặt hãm': 1951, 'hãm lol': 1250, 'muốn bổ': 1815, 'chúc_mừng sinh_nhật': 385, 'quán': 2543, 'nghiệp quật': 2055, 'há': 1239, 'hở lợi': 1327, 'lợi đcm': 1738, 'đcm nguyễn': 3509, 'thở': 2896, 'mày xạo': 1850, 'khanh': 1350, 'lày thuỳ': 1624, 'xik': 3340, 'cỏ': 747, 'nghẹn_ngào': 2059, 'nghẹn_ngào đc': 2060, 'nói_chuyện tâm': 2394, 'nhạt qá': 2230, 'dã': 889, 'lộc': 1719, 'fuho': 1004, 'kia lộc': 1406, 'lộc fuho': 1720, 'tiền chị': 2917, 'bản_thân': 167, 'nhận_lời': 2240, 'em nó': 976, 'chụy': 481, 'êy': 3458, 'giọng kia': 1076, 'lang_nhang': 1500, 'cac noi': 259, 'noi nhieu': 2290, 'nhieu lang_nhang': 2157, 'moá': 1806, 'chắcanh': 416, 'như_vầy': 2217, 'song': 2667, 'chắcanh nợ': 417, 'nợ như_vầy': 2427, 'như_vầy song': 2218, 'song roi': 2668, 'roi nó': 2576, 'nó cho_xong': 2358, 'cho_xong nha': 327, 'nha loại': 2145, 'loại này': 1571, 'làm dơ': 1609, 'dơ xã_hội': 907, 'xã_hội gia_đình': 3383, 'gia_đình anh': 1028, 'anh nha': 27, 'to bằng': 2926, 'bằng lỗ': 195, 'tối': 3139, 'dậy': 928, 'dĩ': 901, 'già_mồm như': 1046, 'mày đáng': 1851, 'đáng mẹ': 3596, 'mẹ con': 1964, 'con mày': 563, 'mày sử': 1848, 'quá đừng': 2541, 'đừng con': 3792, 'con ko': 561, 'ko nó': 1451, 'nó tài_sản': 2373, 'tài_sản bạn': 3045, 'bạn đấy': 162, 'đấy người_ta': 3697, 'người_ta lấy': 2115, 'lấy dĩ': 1681, 'dĩ làm': 902, 'làm chứ': 1608, 'chứ ko': 490, 'ko là': 1444, 'là lấy': 1593, 'lấy vợ': 1682, 'vợ về': 3317, 'hí': 1258, 'hí hí': 1259, 'to vc': 2933, 'dơ_dáy': 911, 'cá_nhân': 608, 'liên_quan': 1532, 'món': 1879, 'ngô': 2109, 'tiền tâm': 2919, 'hs': 1208, 'phụ_nữ đàn_bà': 2519, 'trừ': 3030, 'nên đi': 2352, 'chấp_nhận_lời': 410, 'cho chết': 317, 'cười_nhạt': 716, 'cười_nhạt vl': 717, 'kg tát': 1347, 'đỉ kg': 3737, 'kg tiền': 1346, 'tiền vài': 2920, 'vài ngay': 3234, 'ngay đó': 2041, 'đó nó': 3638, 'nó bớt': 2357, 'bớt bố_láo': 236, 'bố_láo cho': 229, 'cho kia': 321, 'nl': 2269, 'rãnh': 2595, 'chưi': 396, 'nl mình': 2270, 'mình má': 1875, 'má rãnh': 1855, 'rãnh mà': 2596, 'mà chưi': 1824, 'chào tâm': 353, 'đấy thế': 3698, 'ghê_vc': 1018, 'ship em': 2649, 'em mũi': 975, 'mũi hàm_răng': 1897, 'hàm_răng giả': 1231, 'đánh chạy': 3600, 'chạy chứ': 399, 'ko đánh': 1460, 'thuê nè': 2804, 'nè luôn': 2337, 'luôn đuma': 1581, 'động': 3769, 'toe_toét': 2940, 'buồn cc': 107, 'cức': 768, 'ml': 1789, 'điện_thoại làm': 3549, 'chog': 328, 'ứng_xử': 3851, 'già vl': 1040, 'vl rùi': 3209, 'choiiii': 331, 'mũi vs': 1915, 'vs đẹp': 3221, 'đẹp choiiii': 3718, 'đĩ hay': 3660, 'hay vl': 1171, 'kb': 1342, 'chị uyên': 452, 'ngta tải': 2080, 'dung la': 870, 'bánh mặt': 126, 'bua': 99, 'rep để': 2574, 'để bua': 3732, 'bua fame': 100, 'biên': 70, 'là nứng': 1599, 'nứng liền': 2431, 'giọng trai': 1083, 'trận': 3018, 'son': 2665, 'xon': 3361, 'thu dan': 2795, 'dan da': 787, 'da lay': 780, 'lay nguoi': 1503, 'nguoi ta': 2092, 'ta ma': 2739, 'ma son': 1745, 'son xon': 2666, 'xon tan': 3362, 'tan dai': 2746, 'dai bac': 783, 'bấm': 172, 'hàm_răng muốn': 1233, 'bổ mặt': 233, 'mặt đối_diện': 1954, 'đối_diện mũi': 3755, 'to vl': 2934, 'gọi trần': 1150, 'bo chị': 86, 'face': 984, 'ng đặt_hàng': 2036, 'dòng_họ': 892, 'què': 2545, 'xuất_hiện': 3369, 'lol trời': 1555, 'đu': 3563, 'nhà_trọ': 2185, 'là_lạ': 1604, 'đu vô': 3564, 'vô nhà_trọ': 3264, 'nhà_trọ không': 2186, 'không đeo': 1388, 'đeo dung': 3514, 'dung là_lạ': 871, 'là_lạ đấy': 1605, 'xi': 3339, 'loi': 1548, 'đấy bảo': 3691, 'go': 1101, 'dư_luận': 912, 'có_thể giết': 666, 'no luon': 2277, 'ch to': 290, 'vân': 3246, 'nch chị': 2026, 'lâm': 1626, 'hàm': 1228, 'răg': 2604, 'coi để': 553, 'để sợ': 3735, 'cười cả': 706, 'cả hàm': 720, 'hàm răg': 1229, 'răg mặt': 2605, 'gan': 1005, 'sản': 2701, 'bo lồn': 89, 'đii': 3540, 'bh': 65, 'tâm hay': 3068, 'cho vô': 324, 'mệt lol': 1970, 'khon_nan': 1363, 'dan khon_nan': 790, 'thanh_trừng': 2772, 'vẩu dẹp': 3281, 'quâ': 2544, 'đáng yêu': 3598, 'hic': 1180, 'toe_toét buồn': 2941, 'kim_ngân': 1409, 'thị kim_ngân': 2890, 'kim_ngân moá': 1410, 'moá này': 1807, 'này bắn': 2312, 'bắn há': 189, 'ơi nghĩ': 3810, 'nghĩ nên': 2058, 'nên nâng': 2350, 'nâng mũi': 2328, 'tl': 2923, 'con vk': 574, 'vk tl': 3201, 'tl thèm': 2924, 'thèm vài': 2829, 'vài tai': 3235, 'tai đỉ': 2744, 'nch kiểu': 2028, 'kiểu nghe': 1426, 'nghe mệt': 2047, 'lol thật_sự': 1554, 'ơiiii': 3814, 'giọng ấm': 1088, 'ta vẻ': 2740, 'vẻ dễ_thương': 3293, 'dễ_thương trông': 950, 'trông kinh': 3001, 'kinh vl': 1412, 'ngọng': 2128, 'hồ': 1318, 'nó chửi': 2359, 'mũi sửa': 1906, 'man': 1750, 'dan nay': 792, 'con dan': 560, 'nứt': 2435, 'vậy nứt': 3288, 'nứt lỗ': 2436, 'mũi xạo': 1917, 'antifan': 41, 'xí': 3386, 'vàooi': 3241, 'dẹp vàooi': 942, 'hãn': 1251, 'máu_thịt': 1858, 'ck hãn': 513, 'hãn bình_tĩnh': 1252, 'bình_tĩnh gặp': 143, 'gặp ck': 1137, 'ck vào': 521, 'vào nó': 3238, 'nó cắt_cổ': 2360, 'cắt_cổ vk': 736, 'vk lun': 3199, 'lun mà': 1575, 'mà trả_lời': 1833, 'trả_lời dm': 3013, 'dm ko': 848, 'ko liên_quan': 1442, 'liên_quan ứa': 1533, 'ứa máu_thịt': 3848, 'hòn': 1262, 'trứng hòn': 3028, 'page dơ': 2454, 'dơ mất_dạy': 906, 'mất_dạy hám': 1932, 'hám fame': 1241, 'fame ghét': 988, 'ghét càng': 1013, 'càng ghét': 607, 'ơi chị': 3807, 'chiến': 310, 'đồ đi': 3761, 'đực': 3801, 'trét': 2993, 'luôn_di': 1582, 'đĩ đực': 3666, 'đực gia': 3802, 'gia mồm': 1026, 'mồm trét': 1991, 'trét luôn_di': 2994, 'ghê_v': 1017, 'dan dam': 788, 'dam loan': 785, 'loan bo': 1547, 'no duoc': 2275, 'sửa đê': 2735, 'đê êy': 3628, 'đen': 3512, 'ln': 1538, 'miệng_lưỡi': 1787, 'cay_độc': 282, 'công_lý': 677, 'dòng': 890, 'trách_nhiệm': 2982, 'thế_giới': 2879, 'gọi miệng_lưỡi': 1144, 'miệng_lưỡi người_đời': 1788, 'người_đời cay_độc': 2119, 'cay_độc tàn_nhẫn': 283, 'tàn_nhẫn dao': 3049, 'dao lưỡi': 803, 'lưỡi đúng': 1670, 'đúng chắc': 3648, 'chắc đc': 414, 'đc sai': 3505, 'sai nhiều': 2630, 'nhiều nó': 2166, 'nó là': 2365, 'là công_lý': 1591, 'công_lý thực_sự': 678, 'thực_sự dòng': 2903, 'dòng chữ': 891, 'chữ có_thể': 504, 'giết nhưng': 1070, 'nhưng chẳng': 2225, 'chẳng phải': 420, 'phải trách_nhiệm': 2507, 'trách_nhiệm đấy': 2983, 'là sự': 1601, 'sự sợ': 2737, 'sợ thế_giới': 2722, 'thế_giới ảo': 2880, 'ảo nhưng': 3832, 'nhưng thật': 2226, 'mệt_mỏi': 1972, 'thanh_niên': 2771, 'địch': 3742, 'trâu_vậy': 2992, 'mũi lỗ': 1899, 'mũi trâu_vậy': 1912, 'tia': 2904, 'tia gái': 2905, 'chết con_mẹ': 427, 'bọn hãm': 211, 'cút me': 684, 'trai còn': 2953, 'lô cặc': 1648, 'chửi quá': 499, 'đồ nó': 3760, 'tỉnh': 3134, 'cười kìa': 708, 'kìa dm': 1471, 'dm tỉnh': 849, 'tỉnh liền': 3135, 'cần_mỡ': 727, 'rán cần_mỡ': 2593, 'ngu lam': 2087, 'lam sửa': 1498, 'mũi má': 1903, 'chê cút': 364, 'cút làm': 683, 'niềng đi': 2268, 'dug': 865, 'nhưloz': 2223, 'lau': 1501, 'chống': 462, 'hai': 1168, 'bớt hở': 239, 'lỡ_lầm': 1734, 'thu dịu': 2796, 'dịu đấy': 956, 'bảo page': 170, 'page ác': 2463, 'ác vl': 3450, 'vl ko': 3208, 'ko lỡ_lầm': 1446, 'lỡ_lầm đâu': 1735, 'sướng sanh': 2698, 'nc khép': 2022, 'miệng đc': 1786, 'hong mình': 1200, 'cc đm': 287, 'như nổi_tiếng': 2212, 'hic hic': 1181, 'bảo họ_hàng': 169, 'hại': 1282, 'biết_bao_nhiêu': 75, 'hại biết_bao_nhiêu': 1283, 'biết_bao_nhiêu con_người': 76, 'con_người dơ_bẩn': 588, 'nè tâm': 2343, 'gọi nè': 1146, 'cái buồi': 613, 'wa tuyệt': 3328, 'trai_gái': 2958, 'tải chi': 3120, 'giàu': 1049}\n"
          ],
          "name": "stdout"
        }
      ]
    },
    {
      "cell_type": "markdown",
      "metadata": {
        "id": "Y-gVtYyacsT6"
      },
      "source": [
        "# Training và evaluting model"
      ]
    },
    {
      "cell_type": "markdown",
      "metadata": {
        "id": "aNhagN60eZE9"
      },
      "source": [
        "###Model SVC"
      ]
    },
    {
      "cell_type": "code",
      "metadata": {
        "colab": {
          "base_uri": "https://localhost:8080/"
        },
        "id": "IL55b9tHe48d",
        "outputId": "1a3bf2ed-34b4-4e49-90b9-e00757e1d5ef"
      },
      "source": [
        "print(\"Evaluating by model SVC...\")\n",
        "model_SVC = LinearSVC()\n",
        "model_SVC.fit(X_train, Y_train)\n",
        "Y_pred_val = model_SVC.predict(X_val)\n",
        "Y_pred_test = model_SVC.predict(X_test)"
      ],
      "execution_count": null,
      "outputs": [
        {
          "output_type": "stream",
          "text": [
            "Evaluating by model SVC...\n"
          ],
          "name": "stdout"
        }
      ]
    },
    {
      "cell_type": "code",
      "metadata": {
        "colab": {
          "base_uri": "https://localhost:8080/",
          "height": 1000
        },
        "id": "7vw4SNpUiwXh",
        "outputId": "87d70bc3-b5d8-45e1-c372-5e9e516f3f5c"
      },
      "source": [
        "# Build confusion matrix\n",
        "\n",
        "# Validation data\n",
        "cm_val = confusion_matrix(Y_val, Y_pred_val, labels = [0, 1])\n",
        "print(\"\\t\\tValidation\\n\")\n",
        "plt.figure(figsize=(6, 6))\n",
        "sns.heatmap(cm_val, annot=True, fmt='g', vmin=0, cmap='Blues', cbar=False)\n",
        "plt.xticks(ticks=[0.5, 1.5], labels=[\"No Hate speech\", \"Hate speech\"])\n",
        "plt.yticks(ticks=[0.5, 1.5], labels=[\"No Hate speech\", \"Hate speech\"])\n",
        "plt.xlabel(\"Predicted\")\n",
        "plt.ylabel(\"Actual\")\n",
        "plt.title(\"Confusion Matrix\")\n",
        "plt.show()\n",
        "print(\"\\n\")\n",
        "print(classification_report(Y_val,Y_pred_val))\n",
        "\n",
        "# Test data\n",
        "cm_test = confusion_matrix(Y_test, Y_pred_test, labels = [0, 1])\n",
        "print(\"\\t\\tTest\\n\")\n",
        "plt.figure(figsize=(6, 6))\n",
        "sns.heatmap(cm_test, annot=True, fmt='g', vmin=0, cmap='Blues', cbar=False)\n",
        "plt.xticks(ticks=[0.5, 1.5], labels=[\"No Hate speech\", \"Hate speech\"])\n",
        "plt.yticks(ticks=[0.5, 1.5], labels=[\"No Hate speech\", \"Hate speech\"])\n",
        "plt.xlabel(\"Predicted\")\n",
        "plt.ylabel(\"Actual\")\n",
        "plt.title(\"Confusion Matrix\")\n",
        "plt.show()\n",
        "print(\"\\n\")\n",
        "print(classification_report(Y_test,Y_pred_test))"
      ],
      "execution_count": null,
      "outputs": [
        {
          "output_type": "stream",
          "text": [
            "\t\tValidation\n",
            "\n"
          ],
          "name": "stdout"
        },
        {
          "output_type": "display_data",
          "data": {
            "image/png": "[encoded data removed]",
            "text/plain": [
              "<Figure size 432x432 with 1 Axes>"
            ]
          },
          "metadata": {}
        },
        {
          "output_type": "stream",
          "text": [
            "\n",
            "\n",
            "              precision    recall  f1-score   support\n",
            "\n",
            "           0       0.83      0.91      0.86       771\n",
            "           1       0.88      0.78      0.82       659\n",
            "\n",
            "    accuracy                           0.85      1430\n",
            "   macro avg       0.85      0.84      0.84      1430\n",
            "weighted avg       0.85      0.85      0.85      1430\n",
            "\n",
            "\t\tTest\n",
            "\n"
          ],
          "name": "stdout"
        },
        {
          "output_type": "display_data",
          "data": {
            "image/png": "[encoded data removed]",
            "text/plain": [
              "<Figure size 432x432 with 1 Axes>"
            ]
          },
          "metadata": {}
        },
        {
          "output_type": "stream",
          "text": [
            "\n",
            "\n",
            "              precision    recall  f1-score   support\n",
            "\n",
            "           0       0.78      0.87      0.82       501\n",
            "           1       0.79      0.66      0.72       370\n",
            "\n",
            "    accuracy                           0.78       871\n",
            "   macro avg       0.78      0.77      0.77       871\n",
            "weighted avg       0.78      0.78      0.78       871\n",
            "\n"
          ],
          "name": "stdout"
        }
      ]
    },
    {
      "cell_type": "markdown",
      "metadata": {
        "id": "MeWJEc8Ceobu"
      },
      "source": [
        "###Model Naive Bayes"
      ]
    },
    {
      "cell_type": "code",
      "metadata": {
        "colab": {
          "base_uri": "https://localhost:8080/"
        },
        "id": "OvRXFdxufF_f",
        "outputId": "509ec769-a335-492c-fc90-e537effeb99b"
      },
      "source": [
        "print(\"Evaluating by model Naive Bayes...\")\n",
        "model_NB = MultinomialNB()\n",
        "\n",
        "model_NB.fit(X_train, Y_train)\n",
        "Y_pred_val = model_NB.predict(X_val)\n",
        "Y_pred_test = model_NB.predict(X_test)"
      ],
      "execution_count": null,
      "outputs": [
        {
          "output_type": "stream",
          "text": [
            "Evaluating by model Naive Bayes...\n"
          ],
          "name": "stdout"
        }
      ]
    },
    {
      "cell_type": "code",
      "metadata": {
        "colab": {
          "base_uri": "https://localhost:8080/",
          "height": 1000
        },
        "id": "1Lu_4sq8i_D7",
        "outputId": "fffab963-2213-4e68-aba0-b791ec7629bf"
      },
      "source": [
        "# Build confusion matrix\n",
        "\n",
        "# Validation data\n",
        "cm_val = confusion_matrix(Y_val, Y_pred_val, labels = [0, 1])\n",
        "print(\"\\t\\tValidation\\n\")\n",
        "plt.figure(figsize=(6, 6))\n",
        "sns.heatmap(cm_val, annot=True, fmt='g', vmin=0, cmap='Blues', cbar=False)\n",
        "plt.xticks(ticks=[0.5, 1.5], labels=[\"No Hate speech\", \"Hate speech\"])\n",
        "plt.yticks(ticks=[0.5, 1.5], labels=[\"No Hate speech\", \"Hate speech\"])\n",
        "plt.xlabel(\"Predicted\")\n",
        "plt.ylabel(\"Actual\")\n",
        "plt.title(\"Confusion Matrix\")\n",
        "plt.show()\n",
        "print(\"\\n\")\n",
        "print(classification_report(Y_val,Y_pred_val))\n",
        "\n",
        "# Test data\n",
        "cm_test = confusion_matrix(Y_test, Y_pred_test, labels = [0, 1])\n",
        "print(\"\\t\\tTest\\n\")\n",
        "plt.figure(figsize=(6, 6))\n",
        "sns.heatmap(cm_test, annot=True, fmt='g', vmin=0, cmap='Blues', cbar=False)\n",
        "plt.xticks(ticks=[0.5, 1.5], labels=[\"No Hate speech\", \"Hate speech\"])\n",
        "plt.yticks(ticks=[0.5, 1.5], labels=[\"No Hate speech\", \"Hate speech\"])\n",
        "plt.xlabel(\"Predicted\")\n",
        "plt.ylabel(\"Actual\")\n",
        "plt.title(\"Confusion Matrix\")\n",
        "plt.show()\n",
        "print(\"\\n\")\n",
        "print(classification_report(Y_test,Y_pred_test))"
      ],
      "execution_count": null,
      "outputs": [
        {
          "output_type": "stream",
          "text": [
            "\t\tValidation\n",
            "\n"
          ],
          "name": "stdout"
        },
        {
          "output_type": "display_data",
          "data": {
            "image/png": "[encoded data removed]",
            "text/plain": [
              "<Figure size 432x432 with 1 Axes>"
            ]
          },
          "metadata": {}
        },
        {
          "output_type": "stream",
          "text": [
            "\n",
            "\n",
            "              precision    recall  f1-score   support\n",
            "\n",
            "           0       0.76      0.94      0.84       771\n",
            "           1       0.90      0.66      0.76       659\n",
            "\n",
            "    accuracy                           0.81      1430\n",
            "   macro avg       0.83      0.80      0.80      1430\n",
            "weighted avg       0.83      0.81      0.80      1430\n",
            "\n",
            "\t\tTest\n",
            "\n"
          ],
          "name": "stdout"
        },
        {
          "output_type": "display_data",
          "data": {
            "image/png": "[encoded data removed]",
            "text/plain": [
              "<Figure size 432x432 with 1 Axes>"
            ]
          },
          "metadata": {}
        },
        {
          "output_type": "stream",
          "text": [
            "\n",
            "\n",
            "              precision    recall  f1-score   support\n",
            "\n",
            "           0       0.72      0.93      0.81       501\n",
            "           1       0.84      0.51      0.63       370\n",
            "\n",
            "    accuracy                           0.75       871\n",
            "   macro avg       0.78      0.72      0.72       871\n",
            "weighted avg       0.77      0.75      0.74       871\n",
            "\n"
          ],
          "name": "stdout"
        }
      ]
    },
    {
      "cell_type": "markdown",
      "metadata": {
        "id": "y4e_Xe4fewKj"
      },
      "source": [
        "###Model Logistic Regression"
      ]
    },
    {
      "cell_type": "code",
      "metadata": {
        "colab": {
          "base_uri": "https://localhost:8080/"
        },
        "id": "D5lFbVFOfHGU",
        "outputId": "79458c08-011d-44f5-e992-e6fe56eee5e1"
      },
      "source": [
        "print(\"Evaluating by model Logistic Regression...\")\n",
        "model_LG = LogisticRegression()\n",
        "\n",
        "model_LG.fit(X_train, Y_train)\n",
        "Y_pred_val = model_LG.predict(X_val)\n",
        "Y_pred_test = model_LG.predict(X_test)"
      ],
      "execution_count": null,
      "outputs": [
        {
          "output_type": "stream",
          "text": [
            "Evaluating by model Logistic Regression...\n"
          ],
          "name": "stdout"
        }
      ]
    },
    {
      "cell_type": "code",
      "metadata": {
        "colab": {
          "base_uri": "https://localhost:8080/",
          "height": 1000
        },
        "id": "QoYbZnAIjQOx",
        "outputId": "1219a285-4157-40bd-e4fa-d51f4a7076df"
      },
      "source": [
        "# Build confusion matrix\n",
        "\n",
        "# Validation data\n",
        "cm_val = confusion_matrix(Y_val, Y_pred_val, labels = [0, 1])\n",
        "print(\"\\t\\tValidation\\n\")\n",
        "plt.figure(figsize=(6, 6))\n",
        "sns.heatmap(cm_val, annot=True, fmt='g', vmin=0, cmap='Blues', cbar=False)\n",
        "plt.xticks(ticks=[0.5, 1.5], labels=[\"No Hate speech\", \"Hate speech\"])\n",
        "plt.yticks(ticks=[0.5, 1.5], labels=[\"No Hate speech\", \"Hate speech\"])\n",
        "plt.xlabel(\"Predicted\")\n",
        "plt.ylabel(\"Actual\")\n",
        "plt.title(\"Confusion Matrix\")\n",
        "plt.show()\n",
        "print(\"\\n\")\n",
        "print(classification_report(Y_val,Y_pred_val))\n",
        "\n",
        "# Test data\n",
        "cm_test = confusion_matrix(Y_test, Y_pred_test, labels = [0, 1])\n",
        "print(\"\\t\\tTest\\n\")\n",
        "plt.figure(figsize=(6, 6))\n",
        "sns.heatmap(cm_test, annot=True, fmt='g', vmin=0, cmap='Blues', cbar=False)\n",
        "plt.xticks(ticks=[0.5, 1.5], labels=[\"No Hate speech\", \"Hate speech\"])\n",
        "plt.yticks(ticks=[0.5, 1.5], labels=[\"No Hate speech\", \"Hate speech\"])\n",
        "plt.xlabel(\"Predicted\")\n",
        "plt.ylabel(\"Actual\")\n",
        "plt.title(\"Confusion Matrix\")\n",
        "plt.show()\n",
        "print(\"\\n\")\n",
        "print(classification_report(Y_test,Y_pred_test))"
      ],
      "execution_count": null,
      "outputs": [
        {
          "output_type": "stream",
          "text": [
            "\t\tValidation\n",
            "\n"
          ],
          "name": "stdout"
        },
        {
          "output_type": "display_data",
          "data": {
            "image/png": "[encoded data removed]",
            "text/plain": [
              "<Figure size 432x432 with 1 Axes>"
            ]
          },
          "metadata": {}
        },
        {
          "output_type": "stream",
          "text": [
            "\n",
            "\n",
            "              precision    recall  f1-score   support\n",
            "\n",
            "           0       0.78      0.94      0.85       771\n",
            "           1       0.91      0.69      0.78       659\n",
            "\n",
            "    accuracy                           0.82      1430\n",
            "   macro avg       0.84      0.81      0.82      1430\n",
            "weighted avg       0.84      0.82      0.82      1430\n",
            "\n",
            "\t\tTest\n",
            "\n"
          ],
          "name": "stdout"
        },
        {
          "output_type": "display_data",
          "data": {
            "image/png": "[encoded data removed]",
            "text/plain": [
              "<Figure size 432x432 with 1 Axes>"
            ]
          },
          "metadata": {}
        },
        {
          "output_type": "stream",
          "text": [
            "\n",
            "\n",
            "              precision    recall  f1-score   support\n",
            "\n",
            "           0       0.74      0.92      0.82       501\n",
            "           1       0.84      0.57      0.68       370\n",
            "\n",
            "    accuracy                           0.77       871\n",
            "   macro avg       0.79      0.75      0.75       871\n",
            "weighted avg       0.79      0.77      0.76       871\n",
            "\n"
          ],
          "name": "stdout"
        }
      ]
    },
    {
      "cell_type": "markdown",
      "metadata": {
        "id": "Cbwb5nqJez6y"
      },
      "source": [
        "###Model Decision Tree Classifier"
      ]
    },
    {
      "cell_type": "code",
      "metadata": {
        "colab": {
          "base_uri": "https://localhost:8080/"
        },
        "id": "lYKQ-pehfHtf",
        "outputId": "3bc7d9ea-ec75-440d-cdf6-17ffdc24f35d"
      },
      "source": [
        "print(\"Evaluating by model Decision Tree Classifier...\")\n",
        "model_DT = DecisionTreeClassifier()\n",
        "\n",
        "model_DT.fit(X_train, Y_train)\n",
        "Y_pred_val = model_DT.predict(X_val)\n",
        "Y_pred_test = model_DT.predict(X_test)"
      ],
      "execution_count": null,
      "outputs": [
        {
          "output_type": "stream",
          "text": [
            "Evaluating by model Decision Tree Classifier...\n"
          ],
          "name": "stdout"
        }
      ]
    },
    {
      "cell_type": "code",
      "metadata": {
        "colab": {
          "base_uri": "https://localhost:8080/",
          "height": 1000
        },
        "id": "8lIRg7cWjvkQ",
        "outputId": "55e99012-3d80-454c-91f3-0c626837b31e"
      },
      "source": [
        "# Build confusion matrix\n",
        "# Validation data\n",
        "cm_val = confusion_matrix(Y_val, Y_pred_val, labels = [0, 1])\n",
        "print(\"\\t\\tValidation\\n\")\n",
        "plt.figure(figsize=(6, 6))\n",
        "sns.heatmap(cm_val, annot=True, fmt='g', vmin=0, cmap='Blues', cbar=False)\n",
        "plt.xticks(ticks=[0.5, 1.5], labels=[\"No Hate speech\", \"Hate speech\"])\n",
        "plt.yticks(ticks=[0.5, 1.5], labels=[\"No Hate speech\", \"Hate speech\"])\n",
        "plt.xlabel(\"Predicted\")\n",
        "plt.ylabel(\"Actual\")\n",
        "plt.title(\"Confusion Matrix\")\n",
        "plt.show()\n",
        "print(\"\\n\")\n",
        "print(classification_report(Y_val,Y_pred_val))\n",
        "\n",
        "# Test data\n",
        "cm_test = confusion_matrix(Y_test, Y_pred_test, labels = [0, 1])\n",
        "print(\"\\t\\tTest\\n\")\n",
        "plt.figure(figsize=(6, 6))\n",
        "sns.heatmap(cm_test, annot=True, fmt='g', vmin=0, cmap='Blues', cbar=False)\n",
        "plt.xticks(ticks=[0.5, 1.5], labels=[\"No Hate speech\", \"Hate speech\"])\n",
        "plt.yticks(ticks=[0.5, 1.5], labels=[\"No Hate speech\", \"Hate speech\"])\n",
        "plt.xlabel(\"Predicted\")\n",
        "plt.ylabel(\"Actual\")\n",
        "plt.title(\"Confusion Matrix\")\n",
        "plt.show()\n",
        "print(\"\\n\")\n",
        "print(classification_report(Y_test,Y_pred_test))"
      ],
      "execution_count": null,
      "outputs": [
        {
          "output_type": "stream",
          "text": [
            "\t\tValidation\n",
            "\n"
          ],
          "name": "stdout"
        },
        {
          "output_type": "display_data",
          "data": {
            "image/png": "[encoded data removed]",
            "text/plain": [
              "<Figure size 432x432 with 1 Axes>"
            ]
          },
          "metadata": {}
        },
        {
          "output_type": "stream",
          "text": [
            "\n",
            "\n",
            "              precision    recall  f1-score   support\n",
            "\n",
            "           0       0.84      0.88      0.86       771\n",
            "           1       0.85      0.80      0.83       659\n",
            "\n",
            "    accuracy                           0.84      1430\n",
            "   macro avg       0.84      0.84      0.84      1430\n",
            "weighted avg       0.84      0.84      0.84      1430\n",
            "\n",
            "\t\tTest\n",
            "\n"
          ],
          "name": "stdout"
        },
        {
          "output_type": "display_data",
          "data": {
            "image/png": "[encoded data removed]",
            "text/plain": [
              "<Figure size 432x432 with 1 Axes>"
            ]
          },
          "metadata": {}
        },
        {
          "output_type": "stream",
          "text": [
            "\n",
            "\n",
            "              precision    recall  f1-score   support\n",
            "\n",
            "           0       0.79      0.87      0.83       501\n",
            "           1       0.79      0.68      0.73       370\n",
            "\n",
            "    accuracy                           0.79       871\n",
            "   macro avg       0.79      0.77      0.78       871\n",
            "weighted avg       0.79      0.79      0.79       871\n",
            "\n"
          ],
          "name": "stdout"
        }
      ]
    },
    {
      "cell_type": "markdown",
      "metadata": {
        "id": "HiS9NDUaEfUv"
      },
      "source": [
        "#Reviews of models:"
      ]
    },
    {
      "cell_type": "markdown",
      "metadata": {
        "id": "r7xZ-Q7jC4Sx"
      },
      "source": [
        "* Model Decision Tree Classifier and Logistic Regression gives accuracy on the highest validation set (80%)\n",
        "* Model SVC gives accuracy on the highest test set (85%)"
      ]
    },
    {
      "cell_type": "markdown",
      "metadata": {
        "id": "kx1cIN9Wbgr2"
      },
      "source": [
        "# Dự đoán 1 chuỗi nhập vào có phải là câu thô tục hay không"
      ]
    },
    {
      "cell_type": "code",
      "metadata": {
        "colab": {
          "base_uri": "https://localhost:8080/"
        },
        "id": "S18rBTwQbf94",
        "outputId": "3039a126-d99a-4412-8991-34a0d866025f"
      },
      "source": [
        "text = input(\"Nhập vào chuỗi bạn muốn: \")"
      ],
      "execution_count": null,
      "outputs": [
        {
          "output_type": "stream",
          "text": [
            "Nhập vào chuỗi bạn muốn: ok\n"
          ],
          "name": "stdout"
        }
      ]
    },
    {
      "cell_type": "code",
      "metadata": {
        "id": "4PDLCuYdc3Pu"
      },
      "source": [
        "def preprocessing(text):\n",
        "  text_del = del_stopword(text)\n",
        "  text_del = \" \".join(text_del)\n",
        "  text = tf.fit_transform([text_del])\n",
        "  return text"
      ],
      "execution_count": null,
      "outputs": []
    },
    {
      "cell_type": "code",
      "metadata": {
        "id": "Sb0zHBR5d4vt"
      },
      "source": [
        "def Predict(text):\n",
        "  text_pre = preprocessing(text)\n",
        "  predict = model_SVC.predict(text_pre)\n",
        "\n",
        "  if predict == 1:\n",
        "    print(\"Đây là câu thô tục.\")\n",
        "  else:\n",
        "    print(\"Đây không là câu thô tục.\")"
      ],
      "execution_count": null,
      "outputs": []
    },
    {
      "cell_type": "code",
      "metadata": {
        "colab": {
          "base_uri": "https://localhost:8080/",
          "height": 306
        },
        "id": "VW4w41eXgCuQ",
        "outputId": "8c316a03-2648-4501-e4b3-734317c11de4"
      },
      "source": [
        "Predict(text)"
      ],
      "execution_count": null,
      "outputs": [
        {
          "output_type": "error",
          "ename": "NameError",
          "evalue": "ignored",
          "traceback": [
            "\u001b[0;31m---------------------------------------------------------------------------\u001b[0m",
            "\u001b[0;31mNameError\u001b[0m                                 Traceback (most recent call last)",
            "\u001b[0;32m<ipython-input-31-a3c6fa00b23c>\u001b[0m in \u001b[0;36m<module>\u001b[0;34m()\u001b[0m\n\u001b[0;32m----> 1\u001b[0;31m \u001b[0mPredict\u001b[0m\u001b[0;34m(\u001b[0m\u001b[0mtext\u001b[0m\u001b[0;34m)\u001b[0m\u001b[0;34m\u001b[0m\u001b[0;34m\u001b[0m\u001b[0m\n\u001b[0m",
            "\u001b[0;32m<ipython-input-30-e86444caf655>\u001b[0m in \u001b[0;36mPredict\u001b[0;34m(text)\u001b[0m\n\u001b[1;32m      1\u001b[0m \u001b[0;32mdef\u001b[0m \u001b[0mPredict\u001b[0m\u001b[0;34m(\u001b[0m\u001b[0mtext\u001b[0m\u001b[0;34m)\u001b[0m\u001b[0;34m:\u001b[0m\u001b[0;34m\u001b[0m\u001b[0;34m\u001b[0m\u001b[0m\n\u001b[0;32m----> 2\u001b[0;31m   \u001b[0mtext_pre\u001b[0m \u001b[0;34m=\u001b[0m \u001b[0mpreprocessing\u001b[0m\u001b[0;34m(\u001b[0m\u001b[0mtext\u001b[0m\u001b[0;34m)\u001b[0m\u001b[0;34m\u001b[0m\u001b[0;34m\u001b[0m\u001b[0m\n\u001b[0m\u001b[1;32m      3\u001b[0m   \u001b[0mpredict\u001b[0m \u001b[0;34m=\u001b[0m \u001b[0mmodel_SVC\u001b[0m\u001b[0;34m.\u001b[0m\u001b[0mpredict\u001b[0m\u001b[0;34m(\u001b[0m\u001b[0mtext_pre\u001b[0m\u001b[0;34m)\u001b[0m\u001b[0;34m\u001b[0m\u001b[0;34m\u001b[0m\u001b[0m\n\u001b[1;32m      4\u001b[0m \u001b[0;34m\u001b[0m\u001b[0m\n\u001b[1;32m      5\u001b[0m   \u001b[0;32mif\u001b[0m \u001b[0mpredict\u001b[0m \u001b[0;34m==\u001b[0m \u001b[0;36m1\u001b[0m\u001b[0;34m:\u001b[0m\u001b[0;34m\u001b[0m\u001b[0;34m\u001b[0m\u001b[0m\n",
            "\u001b[0;32m<ipython-input-29-ba513c0be8a7>\u001b[0m in \u001b[0;36mpreprocessing\u001b[0;34m(text)\u001b[0m\n\u001b[1;32m      1\u001b[0m \u001b[0;32mdef\u001b[0m \u001b[0mpreprocessing\u001b[0m\u001b[0;34m(\u001b[0m\u001b[0mtext\u001b[0m\u001b[0;34m)\u001b[0m\u001b[0;34m:\u001b[0m\u001b[0;34m\u001b[0m\u001b[0;34m\u001b[0m\u001b[0m\n\u001b[0;32m----> 2\u001b[0;31m   \u001b[0mtext_del\u001b[0m \u001b[0;34m=\u001b[0m \u001b[0mdel_stopword\u001b[0m\u001b[0;34m(\u001b[0m\u001b[0mtext\u001b[0m\u001b[0;34m)\u001b[0m\u001b[0;34m\u001b[0m\u001b[0;34m\u001b[0m\u001b[0m\n\u001b[0m\u001b[1;32m      3\u001b[0m   \u001b[0mtext_del\u001b[0m \u001b[0;34m=\u001b[0m \u001b[0;34m\" \"\u001b[0m\u001b[0;34m.\u001b[0m\u001b[0mjoin\u001b[0m\u001b[0;34m(\u001b[0m\u001b[0mtext_del\u001b[0m\u001b[0;34m)\u001b[0m\u001b[0;34m\u001b[0m\u001b[0;34m\u001b[0m\u001b[0m\n\u001b[1;32m      4\u001b[0m   \u001b[0mtext\u001b[0m \u001b[0;34m=\u001b[0m \u001b[0mtf\u001b[0m\u001b[0;34m.\u001b[0m\u001b[0mfit_transform\u001b[0m\u001b[0;34m(\u001b[0m\u001b[0;34m[\u001b[0m\u001b[0mtext_del\u001b[0m\u001b[0;34m]\u001b[0m\u001b[0;34m)\u001b[0m\u001b[0;34m\u001b[0m\u001b[0;34m\u001b[0m\u001b[0m\n\u001b[1;32m      5\u001b[0m   \u001b[0;32mreturn\u001b[0m \u001b[0mtext\u001b[0m\u001b[0;34m\u001b[0m\u001b[0;34m\u001b[0m\u001b[0m\n",
            "\u001b[0;31mNameError\u001b[0m: name 'del_stopword' is not defined"
          ]
        }
      ]
    }
  ]
}